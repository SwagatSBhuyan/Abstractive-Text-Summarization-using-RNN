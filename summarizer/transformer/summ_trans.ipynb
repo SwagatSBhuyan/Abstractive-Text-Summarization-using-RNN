{
 "cells": [
  {
   "cell_type": "code",
   "execution_count": 1,
   "id": "b9d020c4",
   "metadata": {},
   "outputs": [],
   "source": [
    "import pandas as pd\n",
    "from tqdm import tqdm\n",
    "import concurrent.futures\n",
    "import nltk\n",
    "from rouge import Rouge\n",
    "import time"
   ]
  },
  {
   "cell_type": "code",
   "execution_count": 2,
   "id": "d48ba09e",
   "metadata": {},
   "outputs": [
    {
     "name": "stdout",
     "output_type": "stream",
     "text": [
      "(55104, 3)\n"
     ]
    },
    {
     "data": {
      "text/html": [
       "<div>\n",
       "<style scoped>\n",
       "    .dataframe tbody tr th:only-of-type {\n",
       "        vertical-align: middle;\n",
       "    }\n",
       "\n",
       "    .dataframe tbody tr th {\n",
       "        vertical-align: top;\n",
       "    }\n",
       "\n",
       "    .dataframe thead th {\n",
       "        text-align: right;\n",
       "    }\n",
       "</style>\n",
       "<table border=\"1\" class=\"dataframe\">\n",
       "  <thead>\n",
       "    <tr style=\"text-align: right;\">\n",
       "      <th></th>\n",
       "      <th>headlines</th>\n",
       "      <th>text</th>\n",
       "    </tr>\n",
       "  </thead>\n",
       "  <tbody>\n",
       "    <tr>\n",
       "      <th>0</th>\n",
       "      <td>startup unveils plan seater electric passenger...</td>\n",
       "      <td>usbased startup wright electric unveiled plans...</td>\n",
       "    </tr>\n",
       "    <tr>\n",
       "      <th>1</th>\n",
       "      <td>pm inrates st phase sauni project gujarat</td>\n",
       "      <td>pm narendra modi tuesday inrated first phase c...</td>\n",
       "    </tr>\n",
       "    <tr>\n",
       "      <th>2</th>\n",
       "      <td>trailer themma watsons circle released</td>\n",
       "      <td>trailer themma watson tom hanks starrer americ...</td>\n",
       "    </tr>\n",
       "    <tr>\n",
       "      <th>3</th>\n",
       "      <td>wont share even drop water states</td>\n",
       "      <td>ahead assthembly polls punjab chief minister p...</td>\n",
       "    </tr>\n",
       "    <tr>\n",
       "      <th>4</th>\n",
       "      <td>centre released cr mgnrega year</td>\n",
       "      <td>centre released crore states mahatma gandhi na...</td>\n",
       "    </tr>\n",
       "  </tbody>\n",
       "</table>\n",
       "</div>"
      ],
      "text/plain": [
       "                                           headlines  \\\n",
       "0  startup unveils plan seater electric passenger...   \n",
       "1          pm inrates st phase sauni project gujarat   \n",
       "2             trailer themma watsons circle released   \n",
       "3                  wont share even drop water states   \n",
       "4                    centre released cr mgnrega year   \n",
       "\n",
       "                                                text  \n",
       "0  usbased startup wright electric unveiled plans...  \n",
       "1  pm narendra modi tuesday inrated first phase c...  \n",
       "2  trailer themma watson tom hanks starrer americ...  \n",
       "3  ahead assthembly polls punjab chief minister p...  \n",
       "4  centre released crore states mahatma gandhi na...  "
      ]
     },
     "execution_count": 2,
     "metadata": {},
     "output_type": "execute_result"
    }
   ],
   "source": [
    "review = pd.read_csv('../../datasets/cleaned_data.csv', encoding='utf-8')\n",
    "print(review.shape)\n",
    "df = review[['headlines','text']]\n",
    "df.head()"
   ]
  },
  {
   "cell_type": "code",
   "execution_count": 3,
   "id": "42dc1bbb",
   "metadata": {},
   "outputs": [
    {
     "name": "stdout",
     "output_type": "stream",
     "text": [
      "Requirement already satisfied: transformers in c:\\users\\swaga\\anaconda3\\lib\\site-packages (4.8.2)\n",
      "Requirement already satisfied: requests in c:\\users\\swaga\\anaconda3\\lib\\site-packages (from transformers) (2.22.0)\n",
      "Requirement already satisfied: sacremoses in c:\\users\\swaga\\anaconda3\\lib\\site-packages (from transformers) (0.0.45)\n",
      "Requirement already satisfied: filelock in c:\\users\\swaga\\anaconda3\\lib\\site-packages (from transformers) (3.0.12)\n",
      "Requirement already satisfied: pyyaml in c:\\users\\swaga\\anaconda3\\lib\\site-packages (from transformers) (5.4.1)\n",
      "Requirement already satisfied: tokenizers<0.11,>=0.10.1 in c:\\users\\swaga\\anaconda3\\lib\\site-packages (from transformers) (0.10.3)\n",
      "Requirement already satisfied: tqdm>=4.27 in c:\\users\\swaga\\anaconda3\\lib\\site-packages (from transformers) (4.59.0)\n",
      "Requirement already satisfied: numpy>=1.17 in c:\\users\\swaga\\anaconda3\\lib\\site-packages (from transformers) (1.19.5)\n",
      "Requirement already satisfied: packaging in c:\\users\\swaga\\anaconda3\\lib\\site-packages (from transformers) (20.9)\n",
      "Requirement already satisfied: regex!=2019.12.17 in c:\\users\\swaga\\anaconda3\\lib\\site-packages (from transformers) (2021.4.4)\n",
      "Requirement already satisfied: huggingface-hub==0.0.12 in c:\\users\\swaga\\anaconda3\\lib\\site-packages (from transformers) (0.0.12)\n",
      "Requirement already satisfied: typing-extensions in c:\\users\\swaga\\anaconda3\\lib\\site-packages (from huggingface-hub==0.0.12->transformers) (3.7.4.3)\n",
      "Requirement already satisfied: pyparsing>=2.0.2 in c:\\users\\swaga\\anaconda3\\lib\\site-packages (from packaging->transformers) (2.4.7)\n",
      "Requirement already satisfied: urllib3!=1.25.0,!=1.25.1,<1.26,>=1.21.1 in c:\\users\\swaga\\anaconda3\\lib\\site-packages (from requests->transformers) (1.25.11)\n",
      "Requirement already satisfied: idna<2.9,>=2.5 in c:\\users\\swaga\\anaconda3\\lib\\site-packages (from requests->transformers) (2.8)\n",
      "Requirement already satisfied: certifi>=2017.4.17 in c:\\users\\swaga\\anaconda3\\lib\\site-packages (from requests->transformers) (2020.12.5)\n",
      "Requirement already satisfied: chardet<3.1.0,>=3.0.2 in c:\\users\\swaga\\anaconda3\\lib\\site-packages (from requests->transformers) (3.0.4)\n",
      "Requirement already satisfied: click in c:\\users\\swaga\\anaconda3\\lib\\site-packages (from sacremoses->transformers) (7.1.2)\n",
      "Requirement already satisfied: six in c:\\users\\swaga\\anaconda3\\lib\\site-packages (from sacremoses->transformers) (1.15.0)\n",
      "Requirement already satisfied: joblib in c:\\users\\swaga\\anaconda3\\lib\\site-packages (from sacremoses->transformers) (1.0.1)\n",
      "Requirement already satisfied: sentence-transformers in c:\\users\\swaga\\anaconda3\\lib\\site-packages (2.0.0)\n",
      "Requirement already satisfied: nltk in c:\\users\\swaga\\anaconda3\\lib\\site-packages (from sentence-transformers) (3.6.1)\n",
      "Requirement already satisfied: huggingface-hub in c:\\users\\swaga\\anaconda3\\lib\\site-packages (from sentence-transformers) (0.0.12)\n",
      "Requirement already satisfied: torchvision in c:\\users\\swaga\\anaconda3\\lib\\site-packages (from sentence-transformers) (0.9.1)\n",
      "Requirement already satisfied: transformers<5.0.0,>=4.6.0 in c:\\users\\swaga\\anaconda3\\lib\\site-packages (from sentence-transformers) (4.8.2)\n",
      "Requirement already satisfied: torch>=1.6.0 in c:\\users\\swaga\\anaconda3\\lib\\site-packages (from sentence-transformers) (1.8.1)\n",
      "Requirement already satisfied: tqdm in c:\\users\\swaga\\anaconda3\\lib\\site-packages (from sentence-transformers) (4.59.0)\n",
      "Requirement already satisfied: scipy in c:\\users\\swaga\\anaconda3\\lib\\site-packages (from sentence-transformers) (1.4.1)\n",
      "Requirement already satisfied: numpy in c:\\users\\swaga\\anaconda3\\lib\\site-packages (from sentence-transformers) (1.19.5)\n",
      "Requirement already satisfied: scikit-learn in c:\\users\\swaga\\anaconda3\\lib\\site-packages (from sentence-transformers) (0.24.1)\n",
      "Requirement already satisfied: sentencepiece in c:\\users\\swaga\\anaconda3\\lib\\site-packages (from sentence-transformers) (0.1.96)\n",
      "Requirement already satisfied: typing_extensions in c:\\users\\swaga\\anaconda3\\lib\\site-packages (from torch>=1.6.0->sentence-transformers) (3.7.4.3)\n",
      "Requirement already satisfied: tokenizers<0.11,>=0.10.1 in c:\\users\\swaga\\anaconda3\\lib\\site-packages (from transformers<5.0.0,>=4.6.0->sentence-transformers) (0.10.3)\n",
      "Requirement already satisfied: pyyaml in c:\\users\\swaga\\anaconda3\\lib\\site-packages (from transformers<5.0.0,>=4.6.0->sentence-transformers) (5.4.1)\n",
      "Requirement already satisfied: packaging in c:\\users\\swaga\\anaconda3\\lib\\site-packages (from transformers<5.0.0,>=4.6.0->sentence-transformers) (20.9)\n",
      "Requirement already satisfied: filelock in c:\\users\\swaga\\anaconda3\\lib\\site-packages (from transformers<5.0.0,>=4.6.0->sentence-transformers) (3.0.12)\n",
      "Requirement already satisfied: requests in c:\\users\\swaga\\anaconda3\\lib\\site-packages (from transformers<5.0.0,>=4.6.0->sentence-transformers) (2.22.0)\n",
      "Requirement already satisfied: sacremoses in c:\\users\\swaga\\anaconda3\\lib\\site-packages (from transformers<5.0.0,>=4.6.0->sentence-transformers) (0.0.45)\n",
      "Requirement already satisfied: regex!=2019.12.17 in c:\\users\\swaga\\anaconda3\\lib\\site-packages (from transformers<5.0.0,>=4.6.0->sentence-transformers) (2021.4.4)\n",
      "Requirement already satisfied: pyparsing>=2.0.2 in c:\\users\\swaga\\anaconda3\\lib\\site-packages (from packaging->transformers<5.0.0,>=4.6.0->sentence-transformers) (2.4.7)\n",
      "Requirement already satisfied: joblib in c:\\users\\swaga\\anaconda3\\lib\\site-packages (from nltk->sentence-transformers) (1.0.1)\n",
      "Requirement already satisfied: click in c:\\users\\swaga\\anaconda3\\lib\\site-packages (from nltk->sentence-transformers) (7.1.2)\n",
      "Requirement already satisfied: urllib3!=1.25.0,!=1.25.1,<1.26,>=1.21.1 in c:\\users\\swaga\\anaconda3\\lib\\site-packages (from requests->transformers<5.0.0,>=4.6.0->sentence-transformers) (1.25.11)\n",
      "Requirement already satisfied: certifi>=2017.4.17 in c:\\users\\swaga\\anaconda3\\lib\\site-packages (from requests->transformers<5.0.0,>=4.6.0->sentence-transformers) (2020.12.5)\n",
      "Requirement already satisfied: chardet<3.1.0,>=3.0.2 in c:\\users\\swaga\\anaconda3\\lib\\site-packages (from requests->transformers<5.0.0,>=4.6.0->sentence-transformers) (3.0.4)\n",
      "Requirement already satisfied: idna<2.9,>=2.5 in c:\\users\\swaga\\anaconda3\\lib\\site-packages (from requests->transformers<5.0.0,>=4.6.0->sentence-transformers) (2.8)\n",
      "Requirement already satisfied: six in c:\\users\\swaga\\anaconda3\\lib\\site-packages (from sacremoses->transformers<5.0.0,>=4.6.0->sentence-transformers) (1.15.0)\n",
      "Requirement already satisfied: threadpoolctl>=2.0.0 in c:\\users\\swaga\\anaconda3\\lib\\site-packages (from scikit-learn->sentence-transformers) (2.1.0)\n",
      "Requirement already satisfied: pillow>=4.1.1 in c:\\users\\swaga\\anaconda3\\lib\\site-packages (from torchvision->sentence-transformers) (7.0.0)\n",
      "Requirement already satisfied: rouge in c:\\users\\swaga\\anaconda3\\lib\\site-packages (1.0.0)\n",
      "Requirement already satisfied: six in c:\\users\\swaga\\anaconda3\\lib\\site-packages (from rouge) (1.15.0)\n",
      "Requirement already satisfied: rouge-score in c:\\users\\swaga\\anaconda3\\lib\\site-packages (0.0.4)\n",
      "Requirement already satisfied: six>=1.14.0 in c:\\users\\swaga\\anaconda3\\lib\\site-packages (from rouge-score) (1.15.0)\n",
      "Requirement already satisfied: numpy in c:\\users\\swaga\\anaconda3\\lib\\site-packages (from rouge-score) (1.19.5)\n",
      "Requirement already satisfied: nltk in c:\\users\\swaga\\anaconda3\\lib\\site-packages (from rouge-score) (3.6.1)\n",
      "Requirement already satisfied: absl-py in c:\\users\\swaga\\anaconda3\\lib\\site-packages (from rouge-score) (0.13.0)\n",
      "Requirement already satisfied: click in c:\\users\\swaga\\anaconda3\\lib\\site-packages (from nltk->rouge-score) (7.1.2)\n",
      "Requirement already satisfied: regex in c:\\users\\swaga\\anaconda3\\lib\\site-packages (from nltk->rouge-score) (2021.4.4)\n",
      "Requirement already satisfied: joblib in c:\\users\\swaga\\anaconda3\\lib\\site-packages (from nltk->rouge-score) (1.0.1)\n",
      "Requirement already satisfied: tqdm in c:\\users\\swaga\\anaconda3\\lib\\site-packages (from nltk->rouge-score) (4.59.0)\n"
     ]
    }
   ],
   "source": [
    "!pip install transformers\n",
    "!pip install sentence-transformers\n",
    "!pip install rouge\n",
    "!pip install rouge-score"
   ]
  },
  {
   "cell_type": "code",
   "execution_count": 4,
   "id": "ecaa99af",
   "metadata": {},
   "outputs": [],
   "source": [
    "from transformers import pipeline\n",
    "summarizer = pipeline(\"summarization\")"
   ]
  },
  {
   "cell_type": "code",
   "execution_count": 11,
   "id": "3c9421df",
   "metadata": {},
   "outputs": [
    {
     "name": "stderr",
     "output_type": "stream",
     "text": [
      "100%|████████████████████████████████████████████████████████████████████████████████| 100/100 [04:05<00:00,  2.45s/it]\n"
     ]
    }
   ],
   "source": [
    "dicto={'Text':[],'Original_summary':[],'Predicted_summary':[],'bleu':[],'Semantic_similarity':[],'rouge_1_f':[],'rouge_2_f':[],'rouge_l_f':[]}\n",
    "for i in tqdm(range(100)):\n",
    "    dicto['Text'].append(df.text[i])\n",
    "    dicto['Original_summary'].append(df.headlines[i])\n",
    "    dicto['Predicted_summary'].append(summarizer(df.text[i], max_length=20, min_length=5, do_sample=False)[0]['summary_text'])"
   ]
  },
  {
   "cell_type": "code",
   "execution_count": 12,
   "id": "26568c30",
   "metadata": {},
   "outputs": [
    {
     "data": {
      "text/plain": [
       "100"
      ]
     },
     "execution_count": 12,
     "metadata": {},
     "output_type": "execute_result"
    }
   ],
   "source": [
    "summs_df = pd.DataFrame(list(zip(dicto['Text'], dicto['Original_summary'], dicto['Predicted_summary'])), columns=['Text', 'Original_summary', 'Predicted_summary'])\n",
    "len(summs_df)"
   ]
  },
  {
   "cell_type": "code",
   "execution_count": 13,
   "id": "87754042",
   "metadata": {},
   "outputs": [],
   "source": [
    "from sentence_transformers import SentenceTransformer, util\n",
    "sentence_model = SentenceTransformer('stsb-roberta-large')"
   ]
  },
  {
   "cell_type": "code",
   "execution_count": 14,
   "id": "f3dc331f",
   "metadata": {},
   "outputs": [
    {
     "name": "stderr",
     "output_type": "stream",
     "text": [
      "  0%|                                                                                          | 0/100 [00:00<?, ?it/s]C:\\Users\\swaga\\Anaconda3\\lib\\site-packages\\nltk\\translate\\bleu_score.py:516: UserWarning: \n",
      "The hypothesis contains 0 counts of 2-gram overlaps.\n",
      "Therefore the BLEU score evaluates to 0, independently of\n",
      "how many N-gram overlaps of lower order it contains.\n",
      "Consider using lower n-gram order or use SmoothingFunction()\n",
      "  warnings.warn(_msg)\n",
      "C:\\Users\\swaga\\Anaconda3\\lib\\site-packages\\nltk\\translate\\bleu_score.py:516: UserWarning: \n",
      "The hypothesis contains 0 counts of 3-gram overlaps.\n",
      "Therefore the BLEU score evaluates to 0, independently of\n",
      "how many N-gram overlaps of lower order it contains.\n",
      "Consider using lower n-gram order or use SmoothingFunction()\n",
      "  warnings.warn(_msg)\n",
      "C:\\Users\\swaga\\Anaconda3\\lib\\site-packages\\nltk\\translate\\bleu_score.py:516: UserWarning: \n",
      "The hypothesis contains 0 counts of 4-gram overlaps.\n",
      "Therefore the BLEU score evaluates to 0, independently of\n",
      "how many N-gram overlaps of lower order it contains.\n",
      "Consider using lower n-gram order or use SmoothingFunction()\n",
      "  warnings.warn(_msg)\n",
      "100%|████████████████████████████████████████████████████████████████████████████████| 100/100 [00:10<00:00,  9.63it/s]\n"
     ]
    }
   ],
   "source": [
    "rouge = Rouge()\n",
    "\n",
    "for i in tqdm(range(0,len(summs_df))):\n",
    "\n",
    "  original_summ = summs_df.Original_summary[i]\n",
    "  predicted_summ = summs_df.Predicted_summary[i]\n",
    "\n",
    "  embedding1 = sentence_model.encode(original_summ, convert_to_tensor=True)\n",
    "  embedding2 = sentence_model.encode(predicted_summ, convert_to_tensor=True)\n",
    "  cosine_scores = util.pytorch_cos_sim(embedding1, embedding2)\n",
    "\n",
    "  rouge_score = rouge.get_scores(original_summ, predicted_summ, avg=True)\n",
    "\n",
    "#   scores_dict['Semantic_similarity'].append(cosine_scores.item())\n",
    "#   scores_dict['bleu'].append(nltk.translate.bleu_score.sentence_bleu(original_summ, predicted_summ))\n",
    "#   scores_dict['rouge_1_f'].append(rouge_score['rouge-1']['f'])\n",
    "#   scores_dict['rouge_2_f'].append(rouge_score['rouge-2']['f'])\n",
    "#   scores_dict['rouge_l_f'].append(rouge_score['rouge-l']['f'])\n",
    "\n",
    "  dicto['Semantic_similarity'].append(cosine_scores.item())\n",
    "  dicto['bleu'].append(nltk.translate.bleu_score.sentence_bleu(original_summ, predicted_summ))\n",
    "  dicto['rouge_1_f'].append(rouge_score['rouge-1']['f'])\n",
    "  dicto['rouge_2_f'].append(rouge_score['rouge-2']['f'])\n",
    "  dicto['rouge_l_f'].append(rouge_score['rouge-l']['f'])"
   ]
  },
  {
   "cell_type": "code",
   "execution_count": 15,
   "id": "31caad1b",
   "metadata": {},
   "outputs": [
    {
     "data": {
      "text/html": [
       "<div>\n",
       "<style scoped>\n",
       "    .dataframe tbody tr th:only-of-type {\n",
       "        vertical-align: middle;\n",
       "    }\n",
       "\n",
       "    .dataframe tbody tr th {\n",
       "        vertical-align: top;\n",
       "    }\n",
       "\n",
       "    .dataframe thead th {\n",
       "        text-align: right;\n",
       "    }\n",
       "</style>\n",
       "<table border=\"1\" class=\"dataframe\">\n",
       "  <thead>\n",
       "    <tr style=\"text-align: right;\">\n",
       "      <th></th>\n",
       "      <th>Text</th>\n",
       "      <th>Original_summary</th>\n",
       "      <th>Predicted_summary</th>\n",
       "      <th>Semantic_similarity</th>\n",
       "      <th>bleu</th>\n",
       "      <th>rouge_1_f</th>\n",
       "      <th>rouge_2_f</th>\n",
       "      <th>rouge_l_f</th>\n",
       "    </tr>\n",
       "  </thead>\n",
       "  <tbody>\n",
       "    <tr>\n",
       "      <th>0</th>\n",
       "      <td>usbased startup wright electric unveiled plans...</td>\n",
       "      <td>startup unveils plan seater electric passenger...</td>\n",
       "      <td>usbased startup wright electric unveiled plan...</td>\n",
       "      <td>0.763150</td>\n",
       "      <td>1.088159e-231</td>\n",
       "      <td>0.272727</td>\n",
       "      <td>0.100000</td>\n",
       "      <td>0.285714</td>\n",
       "    </tr>\n",
       "    <tr>\n",
       "      <th>1</th>\n",
       "      <td>pm narendra modi tuesday inrated first phase c...</td>\n",
       "      <td>pm inrates st phase sauni project gujarat</td>\n",
       "      <td>Inrated first phase crore saurashtra narmada ...</td>\n",
       "      <td>0.570590</td>\n",
       "      <td>1.239529e-231</td>\n",
       "      <td>0.250000</td>\n",
       "      <td>0.000000</td>\n",
       "      <td>0.250000</td>\n",
       "    </tr>\n",
       "    <tr>\n",
       "      <th>2</th>\n",
       "      <td>trailer themma watson tom hanks starrer americ...</td>\n",
       "      <td>trailer themma watsons circle released</td>\n",
       "      <td>american science fiction drama film circle re...</td>\n",
       "      <td>0.273789</td>\n",
       "      <td>1.132699e-231</td>\n",
       "      <td>0.235294</td>\n",
       "      <td>0.133333</td>\n",
       "      <td>0.250000</td>\n",
       "    </tr>\n",
       "    <tr>\n",
       "      <th>3</th>\n",
       "      <td>ahead assthembly polls punjab chief minister p...</td>\n",
       "      <td>wont share even drop water states</td>\n",
       "      <td>Punjab chief minister parkash singh singh bad...</td>\n",
       "      <td>0.193488</td>\n",
       "      <td>1.156702e-231</td>\n",
       "      <td>0.222222</td>\n",
       "      <td>0.125000</td>\n",
       "      <td>0.235294</td>\n",
       "    </tr>\n",
       "    <tr>\n",
       "      <th>4</th>\n",
       "      <td>centre released crore states mahatma gandhi na...</td>\n",
       "      <td>centre released cr mgnrega year</td>\n",
       "      <td>Centre released crore states in crore states ...</td>\n",
       "      <td>0.343669</td>\n",
       "      <td>1.074966e-231</td>\n",
       "      <td>0.100000</td>\n",
       "      <td>0.000000</td>\n",
       "      <td>0.117647</td>\n",
       "    </tr>\n",
       "  </tbody>\n",
       "</table>\n",
       "</div>"
      ],
      "text/plain": [
       "                                                Text  \\\n",
       "0  usbased startup wright electric unveiled plans...   \n",
       "1  pm narendra modi tuesday inrated first phase c...   \n",
       "2  trailer themma watson tom hanks starrer americ...   \n",
       "3  ahead assthembly polls punjab chief minister p...   \n",
       "4  centre released crore states mahatma gandhi na...   \n",
       "\n",
       "                                    Original_summary  \\\n",
       "0  startup unveils plan seater electric passenger...   \n",
       "1          pm inrates st phase sauni project gujarat   \n",
       "2             trailer themma watsons circle released   \n",
       "3                  wont share even drop water states   \n",
       "4                    centre released cr mgnrega year   \n",
       "\n",
       "                                   Predicted_summary  Semantic_similarity  \\\n",
       "0   usbased startup wright electric unveiled plan...             0.763150   \n",
       "1   Inrated first phase crore saurashtra narmada ...             0.570590   \n",
       "2   american science fiction drama film circle re...             0.273789   \n",
       "3   Punjab chief minister parkash singh singh bad...             0.193488   \n",
       "4   Centre released crore states in crore states ...             0.343669   \n",
       "\n",
       "            bleu  rouge_1_f  rouge_2_f  rouge_l_f  \n",
       "0  1.088159e-231   0.272727   0.100000   0.285714  \n",
       "1  1.239529e-231   0.250000   0.000000   0.250000  \n",
       "2  1.132699e-231   0.235294   0.133333   0.250000  \n",
       "3  1.156702e-231   0.222222   0.125000   0.235294  \n",
       "4  1.074966e-231   0.100000   0.000000   0.117647  "
      ]
     },
     "execution_count": 15,
     "metadata": {},
     "output_type": "execute_result"
    }
   ],
   "source": [
    "summs_df = pd.DataFrame(list(zip(dicto['Text'], dicto['Original_summary'], dicto['Predicted_summary'], dicto['Semantic_similarity'], dicto['bleu'], dicto['rouge_1_f'], dicto['rouge_2_f'], dicto['rouge_l_f'])), columns=['Text', 'Original_summary', 'Predicted_summary', 'Semantic_similarity', 'bleu', 'rouge_1_f', 'rouge_2_f', 'rouge_l_f'])\n",
    "summs_df.head()"
   ]
  },
  {
   "cell_type": "code",
   "execution_count": 16,
   "id": "785bdd87",
   "metadata": {},
   "outputs": [],
   "source": [
    "summs_df.to_csv('../../datasets/Transformer_generated_summaries.csv',index=False)"
   ]
  },
  {
   "cell_type": "code",
   "execution_count": null,
   "id": "b5ee9297",
   "metadata": {},
   "outputs": [],
   "source": []
  }
 ],
 "metadata": {
  "kernelspec": {
   "display_name": "Python 3",
   "language": "python",
   "name": "python3"
  },
  "language_info": {
   "codemirror_mode": {
    "name": "ipython",
    "version": 3
   },
   "file_extension": ".py",
   "mimetype": "text/x-python",
   "name": "python",
   "nbconvert_exporter": "python",
   "pygments_lexer": "ipython3",
   "version": "3.8.8"
  }
 },
 "nbformat": 4,
 "nbformat_minor": 5
}
