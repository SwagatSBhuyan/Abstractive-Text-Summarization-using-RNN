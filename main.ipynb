{
 "cells": [
  {
   "cell_type": "code",
   "execution_count": 41,
   "id": "cff85162",
   "metadata": {},
   "outputs": [],
   "source": [
    "import os\n",
    "import re\n",
    "import pickle\n",
    "import string\n",
    "import unicodedata\n",
    "from rouge import Rouge\n",
    "from random import randint\n",
    "\n",
    "import numpy as np\n",
    "import pandas as pd\n",
    "import seaborn as sns\n",
    "import matplotlib.pyplot as plt\n",
    "\n",
    "from nltk.corpus import stopwords\n",
    "from wordcloud import STOPWORDS, WordCloud\n",
    "\n",
    "from sklearn.model_selection import train_test_split\n",
    "\n",
    "import tensorflow as tf\n",
    "from tensorflow.keras import Input, Model\n",
    "from tensorflow.keras.models import load_model\n",
    "from tensorflow.keras.preprocessing.text import Tokenizer\n",
    "from tensorflow.keras.preprocessing.sequence import pad_sequences\n",
    "from tensorflow.keras.callbacks import EarlyStopping, ReduceLROnPlateau\n",
    "from tensorflow.keras.layers import LSTM, Bidirectional, Dense, Embedding, TimeDistributed"
   ]
  },
  {
   "cell_type": "code",
   "execution_count": 2,
   "id": "bfdd704c",
   "metadata": {},
   "outputs": [],
   "source": [
    "try:\n",
    "  import keras.backend as K\n",
    "  if len(K.tensorflow_backend._get_available_gpus()) > 0:\n",
    "    from keras.layers import CuDNNLSTM as LSTM\n",
    "    from keras.layers import CuDNNGRU as GRU\n",
    "except:\n",
    "  pass"
   ]
  },
  {
   "cell_type": "code",
   "execution_count": 3,
   "id": "cfee2cbb",
   "metadata": {},
   "outputs": [],
   "source": [
    "from pre_func import *"
   ]
  },
  {
   "cell_type": "code",
   "execution_count": 4,
   "id": "4f7ea70b",
   "metadata": {},
   "outputs": [
    {
     "data": {
      "text/html": [
       "<div>\n",
       "<style scoped>\n",
       "    .dataframe tbody tr th:only-of-type {\n",
       "        vertical-align: middle;\n",
       "    }\n",
       "\n",
       "    .dataframe tbody tr th {\n",
       "        vertical-align: top;\n",
       "    }\n",
       "\n",
       "    .dataframe thead th {\n",
       "        text-align: right;\n",
       "    }\n",
       "</style>\n",
       "<table border=\"1\" class=\"dataframe\">\n",
       "  <thead>\n",
       "    <tr style=\"text-align: right;\">\n",
       "      <th></th>\n",
       "      <th>Unnamed: 0</th>\n",
       "      <th>headlines</th>\n",
       "      <th>text</th>\n",
       "    </tr>\n",
       "  </thead>\n",
       "  <tbody>\n",
       "    <tr>\n",
       "      <th>996</th>\n",
       "      <td>996</td>\n",
       "      <td>sostok _START_ mayweather posts picture millio...</td>\n",
       "      <td>following tweets claimed floyd mayweather run ...</td>\n",
       "    </tr>\n",
       "    <tr>\n",
       "      <th>30367</th>\n",
       "      <td>30367</td>\n",
       "      <td>sostok _START_ man screams death coming times ...</td>\n",
       "      <td>unidentified migrant deported uk italy reporte...</td>\n",
       "    </tr>\n",
       "    <tr>\n",
       "      <th>25851</th>\n",
       "      <td>25851</td>\n",
       "      <td>sostok _START_ sharman joshi star another erot...</td>\n",
       "      <td>bollywood actor sharman joshi news recently er...</td>\n",
       "    </tr>\n",
       "    <tr>\n",
       "      <th>31365</th>\n",
       "      <td>31365</td>\n",
       "      <td>sostok _START_ grew holes shoes jennifer lopez...</td>\n",
       "      <td>singer jennifer lopez speaking childhood days ...</td>\n",
       "    </tr>\n",
       "    <tr>\n",
       "      <th>32779</th>\n",
       "      <td>32779</td>\n",
       "      <td>sostok _START_ killed suicide attack northwest...</td>\n",
       "      <td>least eight people killed others injured suici...</td>\n",
       "    </tr>\n",
       "  </tbody>\n",
       "</table>\n",
       "</div>"
      ],
      "text/plain": [
       "       Unnamed: 0                                          headlines  \\\n",
       "996           996  sostok _START_ mayweather posts picture millio...   \n",
       "30367       30367  sostok _START_ man screams death coming times ...   \n",
       "25851       25851  sostok _START_ sharman joshi star another erot...   \n",
       "31365       31365  sostok _START_ grew holes shoes jennifer lopez...   \n",
       "32779       32779  sostok _START_ killed suicide attack northwest...   \n",
       "\n",
       "                                                    text  \n",
       "996    following tweets claimed floyd mayweather run ...  \n",
       "30367  unidentified migrant deported uk italy reporte...  \n",
       "25851  bollywood actor sharman joshi news recently er...  \n",
       "31365  singer jennifer lopez speaking childhood days ...  \n",
       "32779  least eight people killed others injured suici...  "
      ]
     },
     "execution_count": 4,
     "metadata": {},
     "output_type": "execute_result"
    }
   ],
   "source": [
    "filename = 'cleaned_data.csv'\n",
    "df = pd.read_csv(filename, encoding='iso-8859-1').reset_index(drop=True)\n",
    "df.headlines = df.headlines.apply(lambda x: f'_START_ {x} _END_')\n",
    "start_token = 'sostok'\n",
    "end_token = 'eostok'\n",
    "df.headlines = df.headlines.apply(lambda x: f'{start_token} {x} {end_token}')\n",
    "df.sample(5)"
   ]
  },
  {
   "cell_type": "code",
   "execution_count": 5,
   "id": "7c451787",
   "metadata": {},
   "outputs": [
    {
     "data": {
      "image/png": "[encoded data removed]",
      "text/plain": [
       "<Figure size 1152x288 with 2 Axes>"
      ]
     },
     "metadata": {
      "needs_background": "light"
     },
     "output_type": "display_data"
    }
   ],
   "source": [
    "text_count = [len(sentence.split()) for sentence in df.text]\n",
    "headlines_count = [len(sentence.split()) for sentence in df.headlines]\n",
    "pd.DataFrame({'text': text_count, 'headlines': headlines_count}).hist(bins=100, figsize=(16, 4), range=[0, 50])\n",
    "plt.show()"
   ]
  },
  {
   "cell_type": "code",
   "execution_count": 6,
   "id": "6743f7ed",
   "metadata": {},
   "outputs": [
    {
     "name": "stdout",
     "output_type": "stream",
     "text": [
      "1.0\n",
      "0.99\n"
     ]
    }
   ],
   "source": [
    "# Check how many % of headlines have 0-13 words\n",
    "print(get_word_percent(df.headlines, 13))\n",
    "\n",
    "# Check how many % of summary have 0-42 words\n",
    "print(get_word_percent(df.text, 42))"
   ]
  },
  {
   "cell_type": "code",
   "execution_count": 7,
   "id": "4b760e96",
   "metadata": {},
   "outputs": [],
   "source": [
    "max_text_len = 42\n",
    "max_summary_len = 13"
   ]
  },
  {
   "cell_type": "code",
   "execution_count": 8,
   "id": "f29d0e7a",
   "metadata": {},
   "outputs": [
    {
     "name": "stdout",
     "output_type": "stream",
     "text": [
      "Dataset size: 54309\n"
     ]
    },
    {
     "data": {
      "text/html": [
       "<div>\n",
       "<style scoped>\n",
       "    .dataframe tbody tr th:only-of-type {\n",
       "        vertical-align: middle;\n",
       "    }\n",
       "\n",
       "    .dataframe tbody tr th {\n",
       "        vertical-align: top;\n",
       "    }\n",
       "\n",
       "    .dataframe thead th {\n",
       "        text-align: right;\n",
       "    }\n",
       "</style>\n",
       "<table border=\"1\" class=\"dataframe\">\n",
       "  <thead>\n",
       "    <tr style=\"text-align: right;\">\n",
       "      <th></th>\n",
       "      <th>text</th>\n",
       "      <th>summary</th>\n",
       "    </tr>\n",
       "  </thead>\n",
       "  <tbody>\n",
       "    <tr>\n",
       "      <th>31459</th>\n",
       "      <td>samajwadi party suprthemo mulayam singh yadav ...</td>\n",
       "      <td>sostok _START_ dispute samajwadi party mulayam...</td>\n",
       "    </tr>\n",
       "    <tr>\n",
       "      <th>48905</th>\n",
       "      <td>us republican presidential nominee donald trum...</td>\n",
       "      <td>sostok _START_ donald trump secures early lead...</td>\n",
       "    </tr>\n",
       "    <tr>\n",
       "      <th>17193</th>\n",
       "      <td>new research revealed annual carbon themission...</td>\n",
       "      <td>sostok _START_ carbon themissions fell last de...</td>\n",
       "    </tr>\n",
       "    <tr>\n",
       "      <th>21155</th>\n",
       "      <td>indias womens football team defeated banglades...</td>\n",
       "      <td>sostok _START_ india win record th straight sa...</td>\n",
       "    </tr>\n",
       "    <tr>\n",
       "      <th>20923</th>\n",
       "      <td>maharashtra government set plant two crore sap...</td>\n",
       "      <td>sostok _START_ maharashtra govt plant crore sa...</td>\n",
       "    </tr>\n",
       "  </tbody>\n",
       "</table>\n",
       "</div>"
      ],
      "text/plain": [
       "                                                    text  \\\n",
       "31459  samajwadi party suprthemo mulayam singh yadav ...   \n",
       "48905  us republican presidential nominee donald trum...   \n",
       "17193  new research revealed annual carbon themission...   \n",
       "21155  indias womens football team defeated banglades...   \n",
       "20923  maharashtra government set plant two crore sap...   \n",
       "\n",
       "                                                 summary  \n",
       "31459  sostok _START_ dispute samajwadi party mulayam...  \n",
       "48905  sostok _START_ donald trump secures early lead...  \n",
       "17193  sostok _START_ carbon themissions fell last de...  \n",
       "21155  sostok _START_ india win record th straight sa...  \n",
       "20923  sostok _START_ maharashtra govt plant crore sa...  "
      ]
     },
     "execution_count": 8,
     "metadata": {},
     "output_type": "execute_result"
    }
   ],
   "source": [
    "df = trim_text_and_summary(df, max_text_len, max_summary_len)\n",
    "print(f'Dataset size: {len(df)}')\n",
    "df.sample(5)"
   ]
  },
  {
   "cell_type": "code",
   "execution_count": 9,
   "id": "c40692bb",
   "metadata": {},
   "outputs": [],
   "source": [
    "# Splitting the training and validation sets\n",
    "x_train, x_val, y_train, y_val = train_test_split(\n",
    "    np.array(df['text']),\n",
    "    np.array(df['summary']),\n",
    "    test_size=0.1,\n",
    "    random_state=1,\n",
    "    shuffle=True\n",
    ")"
   ]
  },
  {
   "cell_type": "code",
   "execution_count": 10,
   "id": "090dea90",
   "metadata": {},
   "outputs": [],
   "source": [
    "# rare word analysis\n",
    "def get_rare_word_percent(tokenizer, threshold):\n",
    "    # threshold: if the word's occurrence is less than this then it's rare word\n",
    "\n",
    "    count = 0\n",
    "    total_count = 0\n",
    "    frequency = 0\n",
    "    total_frequency = 0\n",
    "\n",
    "    for key, value in tokenizer.word_counts.items():\n",
    "        total_count += 1\n",
    "        total_frequency += value\n",
    "        if value < threshold:\n",
    "            count += 1\n",
    "            frequency += value\n",
    "\n",
    "    return {\n",
    "        'percent': round((count / total_count) * 100, 2),\n",
    "        'total_coverage': round(frequency / total_frequency * 100, 2),\n",
    "        'count': count,\n",
    "        'total_count': total_count\n",
    "    }"
   ]
  },
  {
   "cell_type": "code",
   "execution_count": 11,
   "id": "bdb59982",
   "metadata": {},
   "outputs": [
    {
     "name": "stdout",
     "output_type": "stream",
     "text": [
      "{'percent': 65.13, 'total_coverage': 4.18, 'count': 49630, 'total_count': 76207}\n"
     ]
    }
   ],
   "source": [
    "x_tokenizer = Tokenizer()\n",
    "x_tokenizer.fit_on_texts(list(x_train))\n",
    "\n",
    "x_tokens_data = get_rare_word_percent(x_tokenizer, 4)\n",
    "print(x_tokens_data)"
   ]
  },
  {
   "cell_type": "code",
   "execution_count": 12,
   "id": "f7f7c4d3",
   "metadata": {},
   "outputs": [],
   "source": [
    "# save tokenizer\n",
    "with open('x_tokenizer', 'wb') as f:\n",
    "    pickle.dump(x_tokenizer, f, protocol=pickle.HIGHEST_PROTOCOL)"
   ]
  },
  {
   "cell_type": "code",
   "execution_count": 13,
   "id": "5c943e6d",
   "metadata": {},
   "outputs": [
    {
     "name": "stdout",
     "output_type": "stream",
     "text": [
      "76208\n"
     ]
    }
   ],
   "source": [
    "# one-hot-encoding\n",
    "x_train_sequence = x_tokenizer.texts_to_sequences(x_train)\n",
    "x_val_sequence = x_tokenizer.texts_to_sequences(x_val)\n",
    "\n",
    "# padding upto max_text_len\n",
    "x_train_padded = pad_sequences(x_train_sequence, maxlen=max_text_len, padding='post')\n",
    "x_val_padded = pad_sequences(x_val_sequence, maxlen=max_text_len, padding='post')\n",
    "\n",
    "# if you're not using num_words parameter in Tokenizer then use this\n",
    "x_vocab_size = len(x_tokenizer.word_index) + 1\n",
    "\n",
    "# else use this\n",
    "# x_vocab_size = x_tokenizer.num_words + 1\n",
    "\n",
    "print(x_vocab_size)"
   ]
  },
  {
   "cell_type": "code",
   "execution_count": 14,
   "id": "56748d88",
   "metadata": {},
   "outputs": [
    {
     "name": "stdout",
     "output_type": "stream",
     "text": [
      "{'percent': 73.82, 'total_coverage': 7.74, 'count': 21504, 'total_count': 29132}\n"
     ]
    }
   ],
   "source": [
    "y_tokenizer = Tokenizer()\n",
    "y_tokenizer.fit_on_texts(list(y_train))\n",
    "\n",
    "y_tokens_data = get_rare_word_percent(y_tokenizer, 6)\n",
    "print(y_tokens_data)"
   ]
  },
  {
   "cell_type": "code",
   "execution_count": 15,
   "id": "0bf87702",
   "metadata": {},
   "outputs": [],
   "source": [
    "# save tokenizer\n",
    "with open('y_tokenizer', 'wb') as f:\n",
    "    pickle.dump(y_tokenizer, f, protocol=pickle.HIGHEST_PROTOCOL)"
   ]
  },
  {
   "cell_type": "code",
   "execution_count": 16,
   "id": "1438c8ff",
   "metadata": {},
   "outputs": [
    {
     "name": "stdout",
     "output_type": "stream",
     "text": [
      "29133\n"
     ]
    }
   ],
   "source": [
    "# one-hot-encoding\n",
    "y_train_sequence = y_tokenizer.texts_to_sequences(y_train)\n",
    "y_val_sequence = y_tokenizer.texts_to_sequences(y_val)\n",
    "\n",
    "# padding upto max_summary_len\n",
    "y_train_padded = pad_sequences(y_train_sequence, maxlen=max_summary_len, padding='post')\n",
    "y_val_padded = pad_sequences(y_val_sequence, maxlen=max_summary_len, padding='post')\n",
    "\n",
    "# if you're not using num_words parameter in Tokenizer then use this\n",
    "y_vocab_size = len(y_tokenizer.word_index) + 1\n",
    "\n",
    "# else use this\n",
    "# y_vocab_size = y_tokenizer.num_words + 1\n",
    "\n",
    "print(y_vocab_size)"
   ]
  },
  {
   "cell_type": "code",
   "execution_count": 17,
   "id": "636b675a",
   "metadata": {},
   "outputs": [],
   "source": [
    "# removing summary which only has sostok & eostok\n",
    "def remove_indexes(summary_array):\n",
    "    remove_indexes = []\n",
    "    for i in range(len(summary_array)):\n",
    "        count = 0\n",
    "        for j in summary_array[i]:\n",
    "            if j != 0:\n",
    "                count += 1\n",
    "        if count == 2:\n",
    "            remove_indexes.append(i)\n",
    "    return remove_indexes\n",
    "\n",
    "\n",
    "remove_train_indexes = remove_indexes(y_train_padded)\n",
    "remove_val_indexes = remove_indexes(y_val_padded)\n",
    "\n",
    "y_train_padded = np.delete(y_train_padded, remove_train_indexes, axis=0)\n",
    "x_train_padded = np.delete(x_train_padded, remove_train_indexes, axis=0)\n",
    "\n",
    "y_val_padded = np.delete(y_val_padded, remove_val_indexes, axis=0)\n",
    "x_val_padded = np.delete(x_val_padded, remove_val_indexes, axis=0)"
   ]
  },
  {
   "cell_type": "markdown",
   "id": "9f4e2a62",
   "metadata": {},
   "source": [
    "## Model"
   ]
  },
  {
   "cell_type": "code",
   "execution_count": 18,
   "id": "0995df81",
   "metadata": {},
   "outputs": [],
   "source": [
    "from model_func import *"
   ]
  },
  {
   "cell_type": "code",
   "execution_count": 19,
   "id": "81bce8bf",
   "metadata": {},
   "outputs": [],
   "source": [
    "latent_dim = 400\n",
    "embedding_dim = 300\n",
    "num_epochs = 30"
   ]
  },
  {
   "cell_type": "code",
   "execution_count": 20,
   "id": "b616f95e",
   "metadata": {},
   "outputs": [
    {
     "name": "stdout",
     "output_type": "stream",
     "text": [
      "Found 400000 word vectors.\n",
      "Converted 49136 words (27071 misses)\n",
      "Found 400000 word vectors.\n",
      "Converted 22620 words (6512 misses)\n"
     ]
    }
   ],
   "source": [
    "x_embedding_matrix = get_embedding_matrix(x_tokenizer, embedding_dim, x_vocab_size)\n",
    "y_embedding_matrix = get_embedding_matrix(y_tokenizer, embedding_dim, y_vocab_size)"
   ]
  },
  {
   "cell_type": "code",
   "execution_count": 21,
   "id": "d5a941ad",
   "metadata": {},
   "outputs": [
    {
     "name": "stdout",
     "output_type": "stream",
     "text": [
      "(76208, 300)\n",
      "(29133, 300)\n"
     ]
    }
   ],
   "source": [
    "print(x_embedding_matrix.shape)\n",
    "print(y_embedding_matrix.shape)"
   ]
  },
  {
   "cell_type": "code",
   "execution_count": 22,
   "id": "17207e2c",
   "metadata": {},
   "outputs": [
    {
     "name": "stdout",
     "output_type": "stream",
     "text": [
      "Model: \"model\"\n",
      "__________________________________________________________________________________________________\n",
      "Layer (type)                    Output Shape         Param #     Connected to                     \n",
      "==================================================================================================\n",
      "input_1 (InputLayer)            [(None, 42)]         0                                            \n",
      "__________________________________________________________________________________________________\n",
      "embedding (Embedding)           (None, 42, 300)      22862400    input_1[0][0]                    \n",
      "__________________________________________________________________________________________________\n",
      "input_2 (InputLayer)            [(None, None)]       0                                            \n",
      "__________________________________________________________________________________________________\n",
      "lstm (LSTM)                     [(None, 42, 400), (N 1121600     embedding[0][0]                  \n",
      "__________________________________________________________________________________________________\n",
      "embedding_1 (Embedding)         (None, None, 300)    8739900     input_2[0][0]                    \n",
      "__________________________________________________________________________________________________\n",
      "lstm_1 (LSTM)                   [(None, 42, 400), (N 1281600     lstm[0][0]                       \n",
      "__________________________________________________________________________________________________\n",
      "lstm_2 (LSTM)                   [(None, None, 400),  1121600     embedding_1[0][0]                \n",
      "                                                                 lstm_1[0][1]                     \n",
      "                                                                 lstm_1[0][2]                     \n",
      "__________________________________________________________________________________________________\n",
      "time_distributed (TimeDistribut (None, None, 29133)  11682333    lstm_2[0][0]                     \n",
      "==================================================================================================\n",
      "Total params: 46,809,433\n",
      "Trainable params: 23,947,033\n",
      "Non-trainable params: 22,862,400\n",
      "__________________________________________________________________________________________________\n"
     ]
    }
   ],
   "source": [
    "seq2seq = build_seq2seq_model_with_just_lstm(\n",
    "    embedding_dim, latent_dim, max_text_len, \n",
    "    x_vocab_size, y_vocab_size,\n",
    "    x_embedding_matrix, y_embedding_matrix\n",
    ")"
   ]
  },
  {
   "cell_type": "code",
   "execution_count": 23,
   "id": "c13d6336",
   "metadata": {},
   "outputs": [],
   "source": [
    "model = seq2seq['model']\n",
    "\n",
    "encoder_input = seq2seq['inputs']['encoder']\n",
    "decoder_input = seq2seq['inputs']['decoder']\n",
    "\n",
    "encoder_output = seq2seq['outputs']['encoder']\n",
    "decoder_output = seq2seq['outputs']['decoder']\n",
    "\n",
    "encoder_final_states = seq2seq['states']['encoder']\n",
    "decoder_final_states = seq2seq['states']['decoder']\n",
    "\n",
    "decoder_embedding_layer = seq2seq['layers']['decoder']['embedding']\n",
    "last_decoder_lstm = seq2seq['layers']['decoder']['last_decoder_lstm']\n",
    "decoder_dense = seq2seq['layers']['decoder']['dense']"
   ]
  },
  {
   "cell_type": "code",
   "execution_count": 24,
   "id": "17fd084c",
   "metadata": {},
   "outputs": [
    {
     "data": {
      "text/plain": [
       "[<KerasTensor: shape=(None, None, 300) dtype=float32 (created by layer 'embedding_1')>,\n",
       " <KerasTensor: shape=(None, 400) dtype=float32 (created by layer 'lstm_1')>,\n",
       " <KerasTensor: shape=(None, 400) dtype=float32 (created by layer 'lstm_1')>]"
      ]
     },
     "execution_count": 24,
     "metadata": {},
     "output_type": "execute_result"
    }
   ],
   "source": [
    "model.layers[-2].input"
   ]
  },
  {
   "cell_type": "code",
   "execution_count": 25,
   "id": "016514e6",
   "metadata": {},
   "outputs": [],
   "source": [
    "callbacks = [\n",
    "    EarlyStopping(monitor='val_loss', mode='min', verbose=1, patience=2),\n",
    "    ReduceLROnPlateau(monitor='val_loss', factor=0.1, patience=2, min_lr=0.000001, verbose=1),\n",
    "]"
   ]
  },
  {
   "cell_type": "code",
   "execution_count": 26,
   "id": "96824be6",
   "metadata": {},
   "outputs": [
    {
     "name": "stdout",
     "output_type": "stream",
     "text": [
      "Epoch 1/30\n",
      "382/382 [==============================] - 132s 317ms/step - loss: 4.6995 - accuracy: 0.4755 - val_loss: 4.0743 - val_accuracy: 0.5174\n",
      "Epoch 2/30\n",
      "382/382 [==============================] - 120s 315ms/step - loss: 4.1248 - accuracy: 0.5038 - val_loss: 3.7191 - val_accuracy: 0.5330\n",
      "Epoch 3/30\n",
      "382/382 [==============================] - 123s 323ms/step - loss: 3.7958 - accuracy: 0.5196 - val_loss: 3.5255 - val_accuracy: 0.5438\n",
      "Epoch 4/30\n",
      "382/382 [==============================] - 125s 327ms/step - loss: 3.5611 - accuracy: 0.5343 - val_loss: 3.3829 - val_accuracy: 0.5556\n",
      "Epoch 5/30\n",
      "382/382 [==============================] - 124s 325ms/step - loss: 3.3659 - accuracy: 0.5492 - val_loss: 3.3026 - val_accuracy: 0.5617\n",
      "Epoch 6/30\n",
      "382/382 [==============================] - 127s 332ms/step - loss: 3.1930 - accuracy: 0.5633 - val_loss: 3.2308 - val_accuracy: 0.5700\n",
      "Epoch 7/30\n",
      "382/382 [==============================] - 127s 332ms/step - loss: 3.0356 - accuracy: 0.5776 - val_loss: 3.1829 - val_accuracy: 0.5739\n",
      "Epoch 8/30\n",
      "382/382 [==============================] - 126s 330ms/step - loss: 2.8868 - accuracy: 0.5922 - val_loss: 3.1613 - val_accuracy: 0.5754\n",
      "Epoch 9/30\n",
      "382/382 [==============================] - 126s 329ms/step - loss: 2.7505 - accuracy: 0.6072 - val_loss: 3.1450 - val_accuracy: 0.5774\n",
      "Epoch 10/30\n",
      "382/382 [==============================] - 127s 332ms/step - loss: 2.6200 - accuracy: 0.6219 - val_loss: 3.1335 - val_accuracy: 0.5798\n",
      "Epoch 11/30\n",
      "382/382 [==============================] - 125s 328ms/step - loss: 2.4963 - accuracy: 0.6382 - val_loss: 3.1462 - val_accuracy: 0.5793\n",
      "Epoch 12/30\n",
      "382/382 [==============================] - 125s 328ms/step - loss: 2.3799 - accuracy: 0.6543 - val_loss: 3.1563 - val_accuracy: 0.5788\n",
      "\n",
      "Epoch 00012: ReduceLROnPlateau reducing learning rate to 0.00010000000474974513.\n",
      "Epoch 00012: early stopping\n"
     ]
    }
   ],
   "source": [
    "#* tpu_strategy.num_replicas_in_sync\n",
    "history = model.fit(\n",
    "    [x_train_padded, y_train_padded[:, :-1]],\n",
    "    y_train_padded.reshape(y_train_padded.shape[0], y_train_padded.shape[1], 1)[:, 1:],\n",
    "    epochs=num_epochs,\n",
    "    batch_size=128,\n",
    "    callbacks=callbacks,\n",
    "    validation_data=(\n",
    "        [x_val_padded, y_val_padded[:, :-1]],\n",
    "        y_val_padded.reshape(y_val_padded.shape[0], y_val_padded.shape[1], 1)[:, 1:]\n",
    "    )\n",
    ")"
   ]
  },
  {
   "cell_type": "code",
   "execution_count": 27,
   "id": "d9f29a0c",
   "metadata": {},
   "outputs": [
    {
     "data": {
      "text/plain": [
       "<matplotlib.legend.Legend at 0x211b30cf220>"
      ]
     },
     "execution_count": 27,
     "metadata": {},
     "output_type": "execute_result"
    },
    {
     "data": {
      "image/png": "[encoded data removed]",
      "text/plain": [
       "<Figure size 432x288 with 1 Axes>"
      ]
     },
     "metadata": {
      "needs_background": "light"
     },
     "output_type": "display_data"
    }
   ],
   "source": [
    "# Accuracy\n",
    "plt.plot(history.history['accuracy'][1:], label='train acc')\n",
    "plt.plot(history.history['val_accuracy'], label='val')\n",
    "plt.xlabel('Epoch')\n",
    "plt.ylabel('Accuracy')\n",
    "plt.legend(loc='lower right')"
   ]
  },
  {
   "cell_type": "code",
   "execution_count": 28,
   "id": "b615a220",
   "metadata": {},
   "outputs": [
    {
     "data": {
      "text/plain": [
       "<matplotlib.legend.Legend at 0x211b4116a30>"
      ]
     },
     "execution_count": 28,
     "metadata": {},
     "output_type": "execute_result"
    },
    {
     "data": {
      "image/png": "[encoded data removed]",
      "text/plain": [
       "<Figure size 432x288 with 1 Axes>"
      ]
     },
     "metadata": {
      "needs_background": "light"
     },
     "output_type": "display_data"
    }
   ],
   "source": [
    "# Loss\n",
    "plt.plot(history.history['loss'][1:], label='train loss')\n",
    "plt.plot(history.history['val_loss'], label='val')\n",
    "plt.xlabel('Epoch')\n",
    "plt.ylabel('Loss')\n",
    "plt.legend(loc='lower right')"
   ]
  },
  {
   "cell_type": "code",
   "execution_count": 29,
   "id": "0ea64ce5",
   "metadata": {},
   "outputs": [],
   "source": [
    "# Next, let’s build the dictionary to convert the index to word for target and source vocabulary:\n",
    "reverse_target_word_index = y_tokenizer.index_word\n",
    "reverse_source_word_index = x_tokenizer.index_word\n",
    "target_word_index = y_tokenizer.word_index"
   ]
  },
  {
   "cell_type": "code",
   "execution_count": 30,
   "id": "66c699e3",
   "metadata": {},
   "outputs": [],
   "source": [
    "encoder_model, decoder_model = build_seq2seq_model_with_just_lstm_inference(\n",
    "    max_text_len, latent_dim, encoder_input, encoder_output,\n",
    "    encoder_final_states, decoder_input, decoder_output,\n",
    "    decoder_embedding_layer, decoder_dense, last_decoder_lstm\n",
    ")"
   ]
  },
  {
   "cell_type": "code",
   "execution_count": 31,
   "id": "1b4be816",
   "metadata": {},
   "outputs": [
    {
     "name": "stdout",
     "output_type": "stream",
     "text": [
      "Model: \"model_2\"\n",
      "__________________________________________________________________________________________________\n",
      "Layer (type)                    Output Shape         Param #     Connected to                     \n",
      "==================================================================================================\n",
      "input_2 (InputLayer)            [(None, None)]       0                                            \n",
      "__________________________________________________________________________________________________\n",
      "embedding_1 (Embedding)         (None, None, 300)    8739900     input_2[0][0]                    \n",
      "__________________________________________________________________________________________________\n",
      "input_3 (InputLayer)            [(None, 400)]        0                                            \n",
      "__________________________________________________________________________________________________\n",
      "input_4 (InputLayer)            [(None, 400)]        0                                            \n",
      "__________________________________________________________________________________________________\n",
      "lstm_2 (LSTM)                   [(None, None, 400),  1121600     embedding_1[1][0]                \n",
      "                                                                 input_3[0][0]                    \n",
      "                                                                 input_4[0][0]                    \n",
      "__________________________________________________________________________________________________\n",
      "input_5 (InputLayer)            [(None, 42, 400)]    0                                            \n",
      "__________________________________________________________________________________________________\n",
      "time_distributed (TimeDistribut (None, None, 29133)  11682333    lstm_2[1][0]                     \n",
      "==================================================================================================\n",
      "Total params: 21,543,833\n",
      "Trainable params: 21,543,833\n",
      "Non-trainable params: 0\n",
      "__________________________________________________________________________________________________\n"
     ]
    }
   ],
   "source": [
    "decoder_model.summary()"
   ]
  },
  {
   "cell_type": "code",
   "execution_count": 32,
   "id": "556c0f6e",
   "metadata": {},
   "outputs": [
    {
     "data": {
      "text/plain": [
       "[<KerasTensor: shape=(None, None, 300) dtype=float32 (created by layer 'embedding_1')>,\n",
       " <KerasTensor: shape=(None, 400) dtype=float32 (created by layer 'lstm_1')>,\n",
       " <KerasTensor: shape=(None, 400) dtype=float32 (created by layer 'lstm_1')>]"
      ]
     },
     "execution_count": 32,
     "metadata": {},
     "output_type": "execute_result"
    }
   ],
   "source": [
    "decoder_model.layers[-3].input"
   ]
  },
  {
   "cell_type": "code",
   "execution_count": 33,
   "id": "91bc0b29",
   "metadata": {},
   "outputs": [
    {
     "name": "stdout",
     "output_type": "stream",
     "text": [
      "[1, 2, 3, 4, 5, 6, 7, 8, 9, 10, 0, 0]\n",
      "[1, 2, 3]\n",
      "[4, 5, 6]\n",
      "[7, 8, 9]\n",
      "[10, 0, 0]\n",
      " james ethan  tony\n",
      "james ethan tony\n"
     ]
    }
   ],
   "source": [
    "l = [1, 2, 3, 4, 5, 6, 7, 8, 9, 10]\n",
    "\n",
    "if len(l) % 3 != 0:\n",
    "    while len(l) % 3 != 0:\n",
    "        l.append(0)\n",
    "print(l)\n",
    "\n",
    "lst_i = 3\n",
    "for i in range(0, len(l), 3):\n",
    "    print(l[i:i + lst_i])\n",
    "\n",
    "print(' '.join(['', 'james', 'ethan', '', 'tony']))\n",
    "print(' '.join(' '.join(['', 'james', 'ethan', '', 'tony']).split()))"
   ]
  },
  {
   "cell_type": "code",
   "execution_count": 34,
   "id": "40d92203",
   "metadata": {},
   "outputs": [],
   "source": [
    "def seq2summary(input_sequence):\n",
    "    new_string = ''\n",
    "    for i in input_sequence:\n",
    "        if (\n",
    "            (i != 0 and i != target_word_index[start_token]) and\n",
    "            (i != target_word_index[end_token])\n",
    "        ):\n",
    "            new_string = new_string + reverse_target_word_index[i] + ' '\n",
    "    return new_string"
   ]
  },
  {
   "cell_type": "code",
   "execution_count": 35,
   "id": "157e0cda",
   "metadata": {},
   "outputs": [],
   "source": [
    "def seq2text(input_sequence):\n",
    "    new_string = ''\n",
    "    for i in input_sequence:\n",
    "        if i != 0:\n",
    "            new_string = new_string + reverse_source_word_index[i] + ' '\n",
    "    return new_string"
   ]
  },
  {
   "cell_type": "code",
   "execution_count": 101,
   "id": "2c065e9e",
   "metadata": {},
   "outputs": [
    {
     "name": "stdout",
     "output_type": "stream",
     "text": [
      "5431\n",
      "5431\n"
     ]
    }
   ],
   "source": [
    "print(len(x_val_padded))\n",
    "print(len(y_val_padded))"
   ]
  },
  {
   "cell_type": "code",
   "execution_count": 120,
   "id": "0484085b",
   "metadata": {},
   "outputs": [
    {
     "name": "stdout",
     "output_type": "stream",
     "text": [
      "Decoding Summary # 0  .......\n",
      "Decoding Summary # 1  .......\n",
      "Decoding Summary # 2  .......\n",
      "Decoding Summary # 3  .......\n",
      "Decoding Summary # 4  .......\n",
      "Decoding Summary # 5  .......\n",
      "Decoding Summary # 6  .......\n",
      "Decoding Summary # 7  .......\n",
      "Decoding Summary # 8  .......\n",
      "Decoding Summary # 9  .......\n",
      "Decoding Summary # 10  .......\n",
      "Decoding Summary # 11  .......\n",
      "Decoding Summary # 12  .......\n",
      "Decoding Summary # 13  .......\n",
      "Decoding Summary # 14  .......\n",
      "Decoding Summary # 15  .......\n",
      "Decoding Summary # 16  .......\n",
      "Decoding Summary # 17  .......\n",
      "Decoding Summary # 18  .......\n",
      "Decoding Summary # 19  .......\n",
      "Decoding Summary # 20  .......\n",
      "Decoding Summary # 21  .......\n",
      "Decoding Summary # 22  .......\n",
      "Decoding Summary # 23  .......\n",
      "Decoding Summary # 24  .......\n",
      "Decoding Summary # 25  .......\n",
      "Decoding Summary # 26  .......\n",
      "Decoding Summary # 27  .......\n",
      "Decoding Summary # 28  .......\n",
      "Decoding Summary # 29  .......\n",
      "Decoding Summary # 30  .......\n",
      "Decoding Summary # 31  .......\n",
      "Decoding Summary # 32  .......\n",
      "Decoding Summary # 33  .......\n",
      "Decoding Summary # 34  .......\n",
      "Decoding Summary # 35  .......\n",
      "Decoding Summary # 36  .......\n",
      "Decoding Summary # 37  .......\n",
      "Decoding Summary # 38  .......\n",
      "Decoding Summary # 39  .......\n",
      "Decoding Summary # 40  .......\n",
      "Decoding Summary # 41  .......\n",
      "Decoding Summary # 42  .......\n",
      "Decoding Summary # 43  .......\n",
      "Decoding Summary # 44  .......\n",
      "Decoding Summary # 45  .......\n",
      "Decoding Summary # 46  .......\n",
      "Decoding Summary # 47  .......\n",
      "Decoding Summary # 48  .......\n",
      "Decoding Summary # 49  .......\n",
      "Decoding Summary # 50  .......\n",
      "Decoding Summary # 51  .......\n",
      "Decoding Summary # 52  .......\n",
      "Decoding Summary # 53  .......\n",
      "Decoding Summary # 54  .......\n",
      "Decoding Summary # 55  .......\n",
      "Decoding Summary # 56  .......\n",
      "Decoding Summary # 57  .......\n",
      "Decoding Summary # 58  .......\n",
      "Decoding Summary # 59  .......\n",
      "Decoding Summary # 60  .......\n",
      "Decoding Summary # 61  .......\n",
      "Decoding Summary # 62  .......\n",
      "Decoding Summary # 63  .......\n",
      "Decoding Summary # 64  .......\n",
      "Decoding Summary # 65  .......\n",
      "Decoding Summary # 66  .......\n",
      "Decoding Summary # 67  .......\n",
      "Decoding Summary # 68  .......\n",
      "Decoding Summary # 69  .......\n",
      "Decoding Summary # 70  .......\n",
      "Decoding Summary # 71  .......\n",
      "Decoding Summary # 72  .......\n",
      "Decoding Summary # 73  .......\n",
      "Decoding Summary # 74  .......\n",
      "Decoding Summary # 75  .......\n",
      "Decoding Summary # 76  .......\n",
      "Decoding Summary # 77  .......\n",
      "Decoding Summary # 78  .......\n",
      "Decoding Summary # 79  .......\n",
      "Decoding Summary # 80  .......\n",
      "Decoding Summary # 81  .......\n",
      "Decoding Summary # 82  .......\n",
      "Decoding Summary # 83  .......\n",
      "Decoding Summary # 84  .......\n",
      "Decoding Summary # 85  .......\n",
      "Decoding Summary # 86  .......\n",
      "Decoding Summary # 87  .......\n",
      "Decoding Summary # 88  .......\n",
      "Decoding Summary # 89  .......\n",
      "Decoding Summary # 90  .......\n",
      "Decoding Summary # 91  .......\n",
      "Decoding Summary # 92  .......\n",
      "Decoding Summary # 93  .......\n",
      "Decoding Summary # 94  .......\n",
      "Decoding Summary # 95  .......\n",
      "Decoding Summary # 96  .......\n",
      "Decoding Summary # 97  .......\n",
      "Decoding Summary # 98  .......\n",
      "Decoding Summary # 99  .......\n",
      "Decoding Summary # 100  .......\n",
      "Decoding Summary # 101  .......\n",
      "Decoding Summary # 102  .......\n",
      "Decoding Summary # 103  .......\n",
      "Decoding Summary # 104  .......\n",
      "Decoding Summary # 105  .......\n",
      "Decoding Summary # 106  .......\n",
      "Decoding Summary # 107  .......\n",
      "Decoding Summary # 108  .......\n",
      "Decoding Summary # 109  .......\n",
      "Decoding Summary # 110  .......\n",
      "Decoding Summary # 111  .......\n",
      "Decoding Summary # 112  .......\n",
      "Decoding Summary # 113  .......\n",
      "Decoding Summary # 114  .......\n",
      "Decoding Summary # 115  .......\n",
      "Decoding Summary # 116  .......\n",
      "Decoding Summary # 117  .......\n",
      "Decoding Summary # 118  .......\n",
      "Decoding Summary # 119  .......\n",
      "Decoding Summary # 120  .......\n",
      "Decoding Summary # 121  .......\n",
      "Decoding Summary # 122  .......\n",
      "Decoding Summary # 123  .......\n",
      "Decoding Summary # 124  .......\n",
      "Decoding Summary # 125  .......\n",
      "Decoding Summary # 126  .......\n",
      "Decoding Summary # 127  .......\n",
      "Decoding Summary # 128  .......\n",
      "Decoding Summary # 129  .......\n",
      "Decoding Summary # 130  .......\n",
      "Decoding Summary # 131  .......\n",
      "Decoding Summary # 132  .......\n",
      "Decoding Summary # 133  .......\n",
      "Decoding Summary # 134  .......\n",
      "Decoding Summary # 135  .......\n",
      "Decoding Summary # 136  .......\n",
      "Decoding Summary # 137  .......\n",
      "Decoding Summary # 138  .......\n",
      "Decoding Summary # 139  .......\n",
      "Decoding Summary # 140  .......\n",
      "Decoding Summary # 141  .......\n",
      "Decoding Summary # 142  .......\n",
      "Decoding Summary # 143  .......\n",
      "Decoding Summary # 144  .......\n",
      "Decoding Summary # 145  .......\n",
      "Decoding Summary # 146  .......\n",
      "Decoding Summary # 147  .......\n",
      "Decoding Summary # 148  .......\n",
      "Decoding Summary # 149  .......\n",
      "Decoding Summary # 150  .......\n",
      "Decoding Summary # 151  .......\n",
      "Decoding Summary # 152  .......\n",
      "Decoding Summary # 153  .......\n",
      "Decoding Summary # 154  .......\n",
      "Decoding Summary # 155  .......\n",
      "Decoding Summary # 156  .......\n",
      "Decoding Summary # 157  .......\n",
      "Decoding Summary # 158  .......\n",
      "Decoding Summary # 159  .......\n",
      "Decoding Summary # 160  .......\n",
      "Decoding Summary # 161  .......\n",
      "Decoding Summary # 162  .......\n",
      "Decoding Summary # 163  .......\n",
      "Decoding Summary # 164  .......\n",
      "Decoding Summary # 165  .......\n",
      "Decoding Summary # 166  .......\n",
      "Decoding Summary # 167  .......\n",
      "Decoding Summary # 168  .......\n",
      "Decoding Summary # 169  .......\n",
      "Decoding Summary # 170  .......\n",
      "Decoding Summary # 171  .......\n",
      "Decoding Summary # 172  .......\n",
      "Decoding Summary # 173  .......\n",
      "Decoding Summary # 174  .......\n",
      "Decoding Summary # 175  .......\n",
      "Decoding Summary # 176  .......\n",
      "Decoding Summary # 177  .......\n",
      "Decoding Summary # 178  .......\n",
      "Decoding Summary # 179  .......\n",
      "Decoding Summary # 180  .......\n",
      "Decoding Summary # 181  .......\n",
      "Decoding Summary # 182  .......\n",
      "Decoding Summary # 183  .......\n",
      "Decoding Summary # 184  .......\n",
      "Decoding Summary # 185  .......\n",
      "Decoding Summary # 186  .......\n",
      "Decoding Summary # 187  .......\n",
      "Decoding Summary # 188  .......\n",
      "Decoding Summary # 189  .......\n",
      "Decoding Summary # 190  .......\n",
      "Decoding Summary # 191  .......\n",
      "Decoding Summary # 192  .......\n",
      "Decoding Summary # 193  .......\n",
      "Decoding Summary # 194  .......\n",
      "Decoding Summary # 195  .......\n",
      "Decoding Summary # 196  .......\n",
      "Decoding Summary # 197  .......\n",
      "Decoding Summary # 198  .......\n",
      "Decoding Summary # 199  .......\n",
      " two arrested drug worth lakh seized mumbai\n",
      " chinese man uses chinese media posts pics\n",
      " rohit sharma becomes highest paid ipl auction\n",
      " man city defeat west league league\n",
      " goa cm rthemoves tmc workers protest attack\n",
      " scientists discover india yrs\n",
      " yrold breaks record car bike mumbai\n",
      " family hindu family hindu tthemple bill\n",
      " company offers cut jobs years\n",
      " pm apologises nation visit jayalalithaa\n",
      " bill hike dthemand salary hike salary hike\n",
      " twitter reacts hacked cofounder\n",
      " indias best railway city named best indian city\n",
      " rbi asks rbi governor\n",
      " first gay service launch service women\n",
      " bill gates slams trumps ban name india\n",
      " indian man us yrs cant black hole india\n",
      " indian fishermen shot dead sri lanka\n",
      " karnataka govt plans make water\n",
      " paytm files case indian companies\n",
      " team wins mn euro attacks\n",
      " delhi govt orders aap govt\n",
      " mumbai metro stations start indias st firm curb pollution\n",
      " pakistan must work india rajnath\n",
      " pcb chief asks bcci play india board\n",
      " cbi arrests fake accounts accounts\n",
      " sc allows plea seeking data firms\n",
      " cia hacked cia security hacking devices\n",
      " flipkart valuation billion valuation\n",
      " xiaomi uses users help phones china\n",
      " govt hikes prices prices crore\n",
      " team police chief shot dead world game\n",
      " new material used using using material using material made\n",
      " dont get deepika kareena\n",
      " le unveils game thrones launched\n",
      " free free free wifi teacher kerala\n",
      " north korea fires missile test us\n",
      " chinese firm fined crore fine data oil scam\n",
      " pak fishermen indian fishermen return home\n",
      " never like friend salman khan\n",
      " telecom firms add data fy fy\n",
      " indian economy grow grow\n",
      " thailand calls migrants vote\n",
      " trump threatens prez event event event\n",
      " jio calls airtel calls calls calls airtel\n",
      " aamir khan features dangal reports\n",
      " party calls opposition party calls note ban\n",
      " making song force released\n",
      " haryana national cup event\n",
      " bsp leader calls mayawati mayawati\n",
      " top firms add crore mcap\n",
      " sp mlas injured outside assthembly polls\n",
      " japan plans save toilet dogs\n",
      " royal enfield hotel zomato\n",
      " scientists discover new zealand ice ice\n",
      " never get back sunny leone leone\n",
      " un st time celebrated today\n",
      " kim features new video gay children\n",
      " england test series tour india\n",
      " aap contest polls contest polls\n",
      " harry potter sued song sued sony\n",
      " farhan sings dter sings national anththem\n",
      " yearold boy wins lakh sports min\n",
      " fdi fdi fdi\n",
      " zuckerberg ceo gifts black money\n",
      " pak violates ceasefire violation along loc\n",
      " haryana govt orders probe jat stir\n",
      " govt clears bill seeking gst bill returns lok sabha\n",
      " bjp leader slams mamata govt claims rthemark\n",
      " group launches web series web\n",
      " white house house house press press startup\n",
      " india open us economy economy\n",
      " indian officers officers take time yrs govt\n",
      " england records highest ti total total odi\n",
      " new solar systthem make india\n",
      " former president gives life term term term rape\n",
      " power coal power min\n",
      " st ever discovered turkey\n",
      " indian team wins team world cup final\n",
      " ngt slams delhi govt bans vehicles\n",
      " couple walks km km snow snow snow\n",
      " years since kapil dev became england test\n",
      " man utd city get cr club win cr\n",
      " people like china like like muslims join trump\n",
      " telangana districts\n",
      " bihar mla accused murder accused arrested\n",
      " lalu offers pay hike mp\n",
      " nawazuddin denies twitter account hacked\n",
      " arrested atm cash van lakh\n",
      " dont work priyanka chopra chopra\n",
      " sells sells crore auction auction\n",
      " govt plans set steel sector sector\n",
      " pm modi launches youth digital india\n",
      " isis claims islamic state un report\n",
      " scientists discover new village world\n",
      " bse launches restaurant open food india\n",
      " google pixel pixel phone phone launched\n",
      " video shows india england ball\n",
      " snapchat raises crore ipo ipo\n",
      " pictures shot dead west bengal\n",
      " naxals assam chhattisgarh\n",
      " salman khan wont work salman khan\n",
      " twitter mocks us chinese man posts tweet\n",
      " startup raises million funding led funding\n",
      " baahubali film sequel revealed\n",
      " india get st defence projects\n",
      " us prez approves wife barack obama sells lakh\n",
      " russia asks people use religion\n",
      " music video lists youtubes viewed\n",
      " prez calls pm modi jampk govt\n",
      " yrs since since indias oldest cricket score\n",
      " afridi banned pakistan\n",
      " pak jawan claims indian man killed jawan\n",
      " mp village runs building village\n",
      " taylor swift worlds highest paid forbes\n",
      " player player hits ball french court\n",
      " centre approves crore tourism project\n",
      " federer reaches th wimbledon since\n",
      " american couple gives new york years\n",
      " punjab hc stays order degree appointment\n",
      " us warns russia war crimes war crimes trump\n",
      " chelsea win champions league league title\n",
      " cyclone vardah death toll rises\n",
      " first poster poster tamil film fest\n",
      " people made fake currency cong mp minister\n",
      " sensex points nifty rises points\n",
      " dont get life bwood anushka sharma\n",
      " tata motors hike prices\n",
      " china bans crore fine food scam\n",
      " paris paris climate change crore london\n",
      " twitter reacts biopic rio olympics\n",
      " govt proposes law use curb curb curb school exam\n",
      " deepika shares video kids birthday\n",
      " china warns us sea south china sea\n",
      " rio olympic medalist says ioc post post ban\n",
      " pv sindhu reaches australian open final\n",
      " twitter reacts indias olympics win man\n",
      " govt make startup pm modi shares policy\n",
      " goa plans make hindi schools rss\n",
      " saif saif ali khan gives baby baby kareena\n",
      " people die bank building fire wb cm\n",
      " suicide attack kills baghdad\n",
      " sc upholds death sentence sentence convicts\n",
      " surgical strikes cong leader\n",
      " cant pay wife lakh hc divorce suicide\n",
      " uber cofounder sues car selfdriving car crash\n",
      " china calls dalai lama lama lama lama\n",
      " parliament passes bill bill passed away\n",
      " indian players players new team world cup\n",
      " trumps immigration ban trumps crore per day\n",
      " maha govt plans new curb water curb pollution\n",
      " apple asks us ban use trump order\n",
      " india sign pact pact world bank accounts\n",
      " airtel airtel crore st airtel merger\n",
      " kerala hc asks govt pay hike death income\n",
      " microsoft releases video trailer released\n",
      " accused charged killing parliament\n",
      " samsung note fire note explodes\n",
      " militants killed encounter encounter\n",
      " arrested selling car online bengaluru student\n",
      " dthemonetisation like rahul gandhi\n",
      " army jawan yred killed encounter jampk\n",
      " pak high use attack school schools\n",
      " let let people let people pok\n",
      " opposition leader calls vote vote\n",
      " happy get back dhoni captain sehwag\n",
      " app lets users pay tribute tribute\n",
      " rishi kapoor shows people dont know sonam\n",
      " sebi get stake sebi nod crore et\n",
      " tata motors launch new car reports\n",
      " india defeat south asian champions trophy\n",
      " sunny leone star wars film\n",
      " video explains un envoy un envoy\n",
      " man city defeat arsenal draw\n",
      " indian rio olympics medals medals\n",
      " mallya seeks ed vijay mallya\n",
      " scientists develop drug use\n",
      " porn show accused sexual harassment case\n",
      " yuvraj calls dhoni take wicket tests\n",
      " obama asks us military aid\n",
      " hp buys business company years\n",
      " pictures th birthday party leaders\n",
      " andhra tthemple invests mumbai university\n",
      " media cant go ipl tweets user\n",
      " salman khan files cr case fraud\n",
      " startup denies claims money name\n",
      " new trailer themma us film boss\n",
      " maoists police officer attacked jharkhand\n",
      " people get people use car work delhi\n",
      " iran iran missile deal north korea\n",
      " woman features transgender transgender model\n",
      " video lists rio athletes\n",
      " govt buy stake stake cr capital\n",
      " electric car goes km charge per per year\n",
      " festival begins festival begins today\n",
      " trending twitter today\n",
      " real madrid win th straight la liga\n",
      " youtubes shared today\n",
      " indian man dies aged day\n",
      " germany jail term term term law\n",
      " tobacco worth lakh seized mumbai airport\n",
      " worker uses workout frame\n",
      " negi expensive indian ipl auction\n",
      " head stamps zlatan uniteds draw bournthemouth\n",
      " minister babul convoy attacked\n",
      " frog years\n",
      " bengaluru boy sets world record\n",
      " women right divorce shia board\n",
      " looking chocolate\n",
      " pm faints national day speech\n",
      " threefold hike upsc chiefs salary\n",
      " hacks pokemon go makers twitter account\n",
      " beas indias cleanest railway stations\n",
      " rbi governor centre amp state\n",
      " st radio cabs run mumbai\n",
      " coo cites india example slam trump order\n",
      " man stalks indians ohio taking away jobs\n",
      " shot dead sri lankan navy\n",
      " buses toilets convert waste\n",
      " sue companies payment dues\n",
      " unbeaten penalty shootouts since\n",
      " slams delhi govt sc ban diesel taxis\n",
      " start trials two japanese buses uary\n",
      " vishwas pak\n",
      " considers introducing bccis lodha reforms\n",
      " raids offices senior govt officials bengaluru\n",
      " strikes trais regulation call drops\n",
      " use devices spy civilians\n",
      " valuation slashed bn morgan stanley\n",
      " translates spoken commands\n",
      " withdraws sugar production subsidy\n",
      " hockey player jumps glass beat fan\n",
      " printing\n",
      " better actress katrina kareena\n",
      " builds car comiccon\n",
      " barber offers free haircuts dads newborn girls\n",
      " korea tests engine says missile reach us\n",
      " cases filed beijing\n",
      " captures indian fishermen boats\n",
      " doesnt mean anything saif naming son taimur\n",
      " tower firms grow moodys\n",
      " growth stabilise moodys\n",
      " expel refugees violent protest\n",
      " jimmy fallon donald trumps hair\n",
      " asks staff stop using rival networks\n",
      " look dangals promotional song\n",
      " pretending economist dont know dthemonetisation\n",
      " pe booty song flying jatt\n",
      " wrestling competition begins\n",
      " probe akhilesh yadavs big sions mayawati\n",
      " companies gain cr mcap\n",
      " sp supporters clash ups meerut amid polling\n",
      " toilet controls tourists\n",
      " ordered restro last week\n",
      " map arctic ice years\n",
      " faced camp systthem bollywood diljit dosanjh\n",
      " charter translated sanskrit st time\n",
      " pay tribute orlando victims\n",
      " attend birth child miss start odi series\n",
      " contest local body elections\n",
      " zeppelin wins copyright case song\n",
      " iulia vantur himesh reshammiya shared online\n",
      " trained mud courts wins national tennis title\n",
      " relaxes fdi norms defence sector\n",
      " blue zuckerberg colourblind\n",
      " rangers killed retaliatory firing bsf\n",
      " govt orders judicial inquiry jat stir\n",
      " dilute lokpal act govt\n",
      " criticised using phone anththem\n",
      " university press launches hindi online dictionary\n",
      " house staffers play snowmen prank obama\n",
      " great opportunity investors gadkari\n",
      " services accuse ias denying promotions\n",
      " eng record highest aggregate runs match odi series\n",
      " creates turbine harness energy\n",
      " israeli president granted parole rape case\n",
      " coal country piyush goyal\n",
      " antarctic ice shelf breaking inside\n",
      " jr mens hockey team wins cup\n",
      " slams delhi govt implthementing order\n",
      " reunites stray dog\n",
      " indian bowler take test wickets\n",
      " city named champions leagues biggest\n",
      " revolution total mistake china\n",
      " announces creation new districts\n",
      " road rage accused rocky yadav surrenders\n",
      " get pension schtheme\n",
      " twitter account hacked\n",
      " robbers arrested looting lakh\n",
      " proud priyanka says kareena\n",
      " locker key auctioned\n",
      " grants licences reliance defence\n",
      " launched modi\n",
      " genocide says un\n",
      " discover worlds oldest polluted river\n",
      " plans taco bell outlets india years\n",
      " googles iphone tweets user\n",
      " karte ho parthiv heard saying stump mic\n",
      " money snapchat investors made ipo\n",
      " ct village near gurugram\n",
      " naxals surrender bastar\n",
      " discrimination bollywood salim khan\n",
      " trolls trump tweet\n",
      " raises mn transfer data via light\n",
      " film stars characters\n",
      " expand subne building plan parrikar\n",
      " us prez reagans belongings auctioned\n",
      " religions russia\n",
      " song hotel wikipedia\n",
      " words kashmir row\n",
      " youngest test centurion day\n",
      " peak shoaib akhtar\n",
      " crossed loc left india pak\n",
      " teach cops skate mp village\n",
      " swift worlds highest paid fthemale musician forbes\n",
      " disqualified hitting ball kid aus open\n",
      " revamp plan approved patna bridge\n",
      " defeats nadal straight sets indian wells\n",
      " book returned years late without fine\n",
      " stays appointments panchayat secretaries punjab\n",
      " withdrawal cause collapse afghanistan russia\n",
      " since ac milan lifted th cl title\n",
      " cyclone vardah strikes indian coast\n",
      " kajol dhanushs tamil film vip revealed\n",
      " news beaten shoes rijiju\n",
      " plunges points nifty points\n",
      " judges looks swara bhaskar\n",
      " motors hikes passenger vehicle prices\n",
      " fines power plants breaking\n",
      " loses crore lakh visitors due terror fears\n",
      " name storm sindhu tweets kapil dev\n",
      " mulls provisions tackle fthemale foeticide\n",
      " climb everest deepikas cause\n",
      " south china sea dispute china g\n",
      " seeks explanation torn national flag\n",
      " praneeth beats seed lee\n",
      " pride india tweets user\n",
      " keen encouraging startups pm modi\n",
      " hindi report\n",
      " baby studios saif kareena\n",
      " mourn death atm stops working\n",
      " dead attack mosque saudi arabia\n",
      " denies plea jampks longest serving prisoner\n",
      " rthemarks exposed govts lie congress\n",
      " kin dowry cases reduced\n",
      " selfdriving car firm sues uber\n",
      " dalai lama spiritual leader tharoor\n",
      " mps pass bill allow hindu iage registration\n",
      " indian cricket teams year review\n",
      " lakh sign petition asking melania trump leave ny\n",
      " dept follow mcds administrative structure\n",
      " wouldnt exist without immigration ceo trump order\n",
      " qatar sign pacts visa cyberspace investments\n",
      " acquire videocon spectrum cr\n",
      " govt pay compensation child missing cases\n",
      " become human trailer released\n",
      " close aide booked arms act\n",
      " explodes car australia\n",
      " snatch weapons tv tower guards jampk\n",
      " students arrested selling drugs bengaluru\n",
      " ban problthems wont end rahul gandhi\n",
      " army captain killed jampk encounter\n",
      " religion aamir khan\n",
      " time place choice army\n",
      " govt postpones presidential elections\n",
      " pak made sehwag look wright\n",
      " app adds font aid dyslexia patients\n",
      " kapoor slams people mocking kareenas babys name\n",
      " allow investing using digital wallets\n",
      " latest car may undergo name change\n",
      " beat south korea champions trophy\n",
      " appear thor ragnarok report\n",
      " angelina jolie visits syrian refugee camp\n",
      " city arsenal play draw\n",
      " deepika ku ousted rio olympics\n",
      " summons vijay mallya appear h\n",
      " bacteria used targeting\n",
      " pleads guilty hacking celebrity accounts\n",
      " ride ashwin captain dhoni\n",
      " strikes without plan mistake obama\n",
      " technologies unit president step\n",
      " anniversary revolution\n",
      " tirupati tthemple ropes tcs edonations\n",
      " bhogle writes fb post ipl sacking\n",
      " charge false motivated sussanne\n",
      " entitled refund says startup shutdown\n",
      " trailer angry birds movie released\n",
      " rescue turtles\n",
      " talk busy phones\n",
      " deploys russian missiles nuclear sites\n",
      " woman writer confirms superhero homosexual\n",
      " lists beauty pageants\n",
      " proposes merging state oil firms make bn major\n",
      " chevrolet bolt goes km single charge\n",
      " onam celebrations begin across india\n",
      " trending twitter today\n",
      " madrid secures th straight la liga win\n",
      " woh youtubes shared today\n",
      " sant nirankari mission passes away\n",
      " repeal homosexuality\n"
     ]
    }
   ],
   "source": [
    "text_list = []\n",
    "head_list = []\n",
    "summ_list = []\n",
    "lim = 200\n",
    "\n",
    "for i in range(0, lim):\n",
    "    text_list.append(seq2text(x_val_padded[i]))\n",
    "    head_list.append(seq2summary(y_val_padded[i]))\n",
    "    summ_list.append(decode_sequence_seq2seq_model_with_just_lstm(\n",
    "        x_val_padded[i].reshape(1, max_text_len), encoder_model,\n",
    "        decoder_model, reverse_target_word_index, reverse_source_word_index, target_word_index\n",
    "    ))\n",
    "    print(\"Decoding Summary #\", i, \" .......\")\n",
    "\n",
    "for i in range(0, lim):\n",
    "    str = ''\n",
    "    ctr = 0\n",
    "    for charac in summ_list[i]:\n",
    "        # print(charac)\n",
    "        if charac == ' ':\n",
    "            ctr += 1\n",
    "        if ctr > 1:\n",
    "            str = str + charac\n",
    "    str = ' '.join(str.split(' ')[:-1])\n",
    "    print(str)\n",
    "    summ_list[i] = str\n",
    "    \n",
    "for j in range(0, lim):\n",
    "    head_list[j] = head_list[j][:-1]\n",
    "    str_ = ''\n",
    "    ctr_ = 0\n",
    "    for charac_ in head_list[j]:\n",
    "        # print(charac)\n",
    "        if charac_ == ' ':\n",
    "            ctr_ += 1\n",
    "        if ctr_ > 1:\n",
    "            str_ = str_ + charac_\n",
    "    str_ = ' '.join(str_.split(' ')[:-1])\n",
    "    print(str_)\n",
    "    head_list[j] = str_"
   ]
  },
  {
   "cell_type": "code",
   "execution_count": 124,
   "id": "a776b9e1",
   "metadata": {},
   "outputs": [
    {
     "name": "stdout",
     "output_type": "stream",
     "text": [
      "children madhya pradeshs ar village teaching policthemen panna police station skateboard ar houses one indias largest skate parks aar castle often considered indias first rural founded community activist ulrike reinhard officials panna reportedly talks ulrike plan skateboarding programme officers  \n",
      "\n",
      " teach cops skate mp village \n",
      "\n",
      " mp village runs building village\n"
     ]
    }
   ],
   "source": [
    "print(text_list[113], '\\n')\n",
    "print(head_list[113], '\\n')\n",
    "print(summ_list[113])"
   ]
  },
  {
   "cell_type": "code",
   "execution_count": 125,
   "id": "a963e48f",
   "metadata": {},
   "outputs": [],
   "source": [
    "from rouge_n_eval import *"
   ]
  },
  {
   "cell_type": "code",
   "execution_count": 126,
   "id": "b8ac8cd3",
   "metadata": {},
   "outputs": [
    {
     "name": "stdout",
     "output_type": "stream",
     "text": [
      "rouge-1  :  {'f': 0.1785041319826761, 'p': 0.19638095238095232, 'r': 0.17040873015873015}\n",
      "rouge-2  :  {'f': 0.05412662257036617, 'p': 0.058249999999999996, 'r': 0.052642857142857144}\n",
      "rouge-l  :  {'f': 0.18112007160440954, 'p': 0.18966666666666665, 'r': 0.1844484126984127}\n"
     ]
    }
   ],
   "source": [
    "scores = rouge_eval(head_list, summ_list)\n",
    "# print(head_list[1], '\\n')\n",
    "# print(summ_list[1], '\\n')\n",
    "for key, value in scores.items():\n",
    "    print(key, ' : ', value)"
   ]
  },
  {
   "cell_type": "code",
   "execution_count": 56,
   "id": "bc317946",
   "metadata": {},
   "outputs": [],
   "source": [
    "# # Testing on training data\n",
    "# for i in range(0, 2):\n",
    "#     print(f\"# {i+1} News: \", seq2text(x_train_padded[i]))\n",
    "#     print(\"Original summary: \", seq2summary(y_train_padded[i]))\n",
    "#     print(\n",
    "#         \"Predicted summary: \",\n",
    "#         decode_sequence_seq2seq_model_with_just_lstm(\n",
    "#             x_train_padded[i].reshape(1, max_text_len), encoder_model,\n",
    "#             decoder_model, reverse_target_word_index, reverse_source_word_index, target_word_index\n",
    "#         )\n",
    "#     )\n",
    "#     print()"
   ]
  },
  {
   "cell_type": "code",
   "execution_count": null,
   "id": "ff04e91c",
   "metadata": {},
   "outputs": [],
   "source": []
  },
  {
   "cell_type": "code",
   "execution_count": null,
   "id": "cb4ffe31",
   "metadata": {},
   "outputs": [],
   "source": []
  }
 ],
 "metadata": {
  "kernelspec": {
   "display_name": "Python 3",
   "language": "python",
   "name": "python3"
  },
  "language_info": {
   "codemirror_mode": {
    "name": "ipython",
    "version": 3
   },
   "file_extension": ".py",
   "mimetype": "text/x-python",
   "name": "python",
   "nbconvert_exporter": "python",
   "pygments_lexer": "ipython3",
   "version": "3.8.8"
  }
 },
 "nbformat": 4,
 "nbformat_minor": 5
}
