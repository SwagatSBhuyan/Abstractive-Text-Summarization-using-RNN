{
 "cells": [
  {
   "cell_type": "code",
   "execution_count": 2,
   "metadata": {
    "colab": {
     "base_uri": "https://localhost:8080/"
    },
    "id": "JN1CXyeuleNS",
    "outputId": "4b4e48fa-c708-482c-eef6-ad4be8bd4265"
   },
   "outputs": [],
   "source": [
    "# from google.colab import drive\n",
    "# drive.mount('/content/gdrive')"
   ]
  },
  {
   "cell_type": "markdown",
   "metadata": {},
   "source": [
    "### Imports"
   ]
  },
  {
   "cell_type": "code",
   "execution_count": 3,
   "metadata": {
    "id": "WpMYh00ik9qm"
   },
   "outputs": [
    {
     "name": "stderr",
     "output_type": "stream",
     "text": [
      "[nltk_data] Downloading package stopwords to\n",
      "[nltk_data]     C:\\Users\\swaga\\AppData\\Roaming\\nltk_data...\n",
      "[nltk_data]   Package stopwords is already up-to-date!\n",
      "[nltk_data] Downloading package punkt to\n",
      "[nltk_data]     C:\\Users\\swaga\\AppData\\Roaming\\nltk_data...\n",
      "[nltk_data]   Package punkt is already up-to-date!\n",
      "[nltk_data] Downloading package wordnet to\n",
      "[nltk_data]     C:\\Users\\swaga\\AppData\\Roaming\\nltk_data...\n",
      "[nltk_data]   Package wordnet is already up-to-date!\n",
      "C:\\Users\\swaga\\Anaconda3\\lib\\site-packages\\gensim\\similarities\\__init__.py:15: UserWarning: The gensim.similarities.levenshtein submodule is disabled, because the optional Levenshtein package <https://pypi.org/project/python-Levenshtein/> is unavailable. Install Levenhstein (e.g. `pip install python-Levenshtein`) to suppress this warning.\n",
      "  warnings.warn(msg)\n"
     ]
    }
   ],
   "source": [
    "import os\n",
    "import pandas as pd\n",
    "import tqdm\n",
    "import re\n",
    "import torch\n",
    "import json\n",
    "# import torch_xla\n",
    "# import torch_xla.core.xla_model as xm\n",
    "from torch.utils.data import Dataset, TensorDataset, DataLoader, SequentialSampler, RandomSampler\n",
    "from torch.nn.utils.rnn import pad_sequence\n",
    "# from keras.preprocessing.sequence import pad_sequences\n",
    "import pickle\n",
    "import numpy as np\n",
    "import tensorflow as tf\n",
    "from preprocess import *\n",
    "from vocabulary import *\n",
    "from model import *\n",
    "from model_functions import *"
   ]
  },
  {
   "cell_type": "code",
   "execution_count": 4,
   "metadata": {},
   "outputs": [
    {
     "name": "stderr",
     "output_type": "stream",
     "text": [
      "[nltk_data] Downloading package stopwords to\n",
      "[nltk_data]     C:\\Users\\swaga\\AppData\\Roaming\\nltk_data...\n",
      "[nltk_data]   Package stopwords is already up-to-date!\n",
      "[nltk_data] Downloading package punkt to\n",
      "[nltk_data]     C:\\Users\\swaga\\AppData\\Roaming\\nltk_data...\n",
      "[nltk_data]   Package punkt is already up-to-date!\n",
      "[nltk_data] Downloading package wordnet to\n",
      "[nltk_data]     C:\\Users\\swaga\\AppData\\Roaming\\nltk_data...\n",
      "[nltk_data]   Package wordnet is already up-to-date!\n"
     ]
    }
   ],
   "source": [
    "import matplotlib.pyplot as plt\n",
    "import nltk\n",
    "nltk.download('stopwords')\n",
    "nltk.download('punkt')\n",
    "nltk.download('wordnet')\n",
    "from nltk.corpus import stopwords\n",
    "from nltk.stem import WordNetLemmatizer \n",
    "from nltk.tokenize import word_tokenize \n",
    "import torch\n",
    "import torch.nn as nn\n",
    "import torch.optim as optim\n",
    "import torch.nn.functional as F\n",
    "from torch.utils.data import Dataset, DataLoader\n",
    "from torch.nn.utils.rnn import pad_sequence, pack_padded_sequence, pad_packed_sequence\n",
    "from sklearn.preprocessing import LabelBinarizer\n",
    "import seaborn as sns\n",
    "from string import punctuation\n",
    "import re\n",
    "from gensim.models import KeyedVectors\n",
    "import numpy as np"
   ]
  },
  {
   "cell_type": "markdown",
   "metadata": {},
   "source": [
    "### Pre Processing Dataset"
   ]
  },
  {
   "cell_type": "code",
   "execution_count": 5,
   "metadata": {
    "id": "SVaFT9sBnKVi"
   },
   "outputs": [],
   "source": [
    "# train_df = pd.read_csv('../../../evaluation/snli/snli_/snli_1.0_train.csv')\n",
    "# val_df   = pd.read_csv('../../../evaluation/snli/snli_/snli_1.0_dev.csv')\n",
    "# # train_df = pd.read_csv('../datasets/snli/snli_/snli_1.0_train.csv')\n",
    "# # val_df   = pd.read_csv('../datasets/snli/snli_/snli_1.0_dev.csv')\n",
    "# train_df, val_df = preprocess_text(train_df, val_df)\n",
    "# print(len(train_df))\n",
    "# print(len(val_df))"
   ]
  },
  {
   "cell_type": "code",
   "execution_count": 8,
   "metadata": {},
   "outputs": [],
   "source": [
    "# len(train_df['sentence2'][8])"
   ]
  },
  {
   "cell_type": "code",
   "execution_count": 9,
   "metadata": {
    "colab": {
     "base_uri": "https://localhost:8080/",
     "height": 195
    },
    "id": "l2TMjBJDF1uT",
    "outputId": "8b9cda3b-9519-4504-e8ee-c527011f783d"
   },
   "outputs": [
    {
     "data": {
      "text/html": [
       "<div>\n",
       "<style scoped>\n",
       "    .dataframe tbody tr th:only-of-type {\n",
       "        vertical-align: middle;\n",
       "    }\n",
       "\n",
       "    .dataframe tbody tr th {\n",
       "        vertical-align: top;\n",
       "    }\n",
       "\n",
       "    .dataframe thead th {\n",
       "        text-align: right;\n",
       "    }\n",
       "</style>\n",
       "<table border=\"1\" class=\"dataframe\">\n",
       "  <thead>\n",
       "    <tr style=\"text-align: right;\">\n",
       "      <th></th>\n",
       "      <th>gold_label</th>\n",
       "      <th>sentence1</th>\n",
       "      <th>sentence2</th>\n",
       "    </tr>\n",
       "  </thead>\n",
       "  <tbody>\n",
       "    <tr>\n",
       "      <th>0</th>\n",
       "      <td>-1</td>\n",
       "      <td>saudi stock exchange appointed sarah al ceo in...</td>\n",
       "      <td>saudi stock exchange appointed sarah al ceo i...</td>\n",
       "    </tr>\n",
       "    <tr>\n",
       "      <th>1</th>\n",
       "      <td>-1</td>\n",
       "      <td>hollywood actor morgan freeman said would like...</td>\n",
       "      <td>hollywood actor morgan freeman said would lik...</td>\n",
       "    </tr>\n",
       "    <tr>\n",
       "      <th>2</th>\n",
       "      <td>-1</td>\n",
       "      <td>uk india business council chairperson said 60 ...</td>\n",
       "      <td>india business council chairperson said 60 br...</td>\n",
       "    </tr>\n",
       "    <tr>\n",
       "      <th>3</th>\n",
       "      <td>-1</td>\n",
       "      <td>indian railways wednesday increased lower bert...</td>\n",
       "      <td>indian railways wednesday increased lower ber...</td>\n",
       "    </tr>\n",
       "    <tr>\n",
       "      <th>4</th>\n",
       "      <td>-1</td>\n",
       "      <td>two pilots arrested saturday glasgow scotland ...</td>\n",
       "      <td>two pilots arrested saturday glasgow scotland...</td>\n",
       "    </tr>\n",
       "  </tbody>\n",
       "</table>\n",
       "</div>"
      ],
      "text/plain": [
       "   gold_label                                          sentence1  \\\n",
       "0          -1  saudi stock exchange appointed sarah al ceo in...   \n",
       "1          -1  hollywood actor morgan freeman said would like...   \n",
       "2          -1  uk india business council chairperson said 60 ...   \n",
       "3          -1  indian railways wednesday increased lower bert...   \n",
       "4          -1  two pilots arrested saturday glasgow scotland ...   \n",
       "\n",
       "                                           sentence2  \n",
       "0   saudi stock exchange appointed sarah al ceo i...  \n",
       "1   hollywood actor morgan freeman said would lik...  \n",
       "2   india business council chairperson said 60 br...  \n",
       "3   indian railways wednesday increased lower ber...  \n",
       "4   two pilots arrested saturday glasgow scotland...  "
      ]
     },
     "execution_count": 9,
     "metadata": {},
     "output_type": "execute_result"
    }
   ],
   "source": [
    "# rw = pd.read_csv('../datasets/Transformer_generated_summaries.csv', encoding='utf-8')\n",
    "# rw = pd.read_csv('ins.csv', encoding='utf-8')\n",
    "rw = pd.read_csv('test_sets/ins.csv', encoding='ansi')\n",
    "# rw = pd.read_csv('../datasets/test_data/Transformer_generated_summaries.csv', encoding='utf-8')\n",
    "\n",
    "rw.drop(['original_summary'], axis = 1, inplace=True)\n",
    "rw.rename(columns = {'text':'sentence1'}, inplace = True)\n",
    "rw.rename(columns = {'Predicted_summary':'sentence2'}, inplace = True)\n",
    "\n",
    "# print(rw)\n",
    "gold = [-1] * 100\n",
    "rw.insert(loc=0, column='gold_label', value=gold)\n",
    "rw = rw[['gold_label', 'sentence1', 'sentence2']]\n",
    "# rw = rw[['sentence1', 'sentence2']]\n",
    "rw = rw.dropna()\n",
    "rw.head()"
   ]
  },
  {
   "cell_type": "code",
   "execution_count": 10,
   "metadata": {},
   "outputs": [
    {
     "data": {
      "text/html": [
       "<div>\n",
       "<style scoped>\n",
       "    .dataframe tbody tr th:only-of-type {\n",
       "        vertical-align: middle;\n",
       "    }\n",
       "\n",
       "    .dataframe tbody tr th {\n",
       "        vertical-align: top;\n",
       "    }\n",
       "\n",
       "    .dataframe thead th {\n",
       "        text-align: right;\n",
       "    }\n",
       "</style>\n",
       "<table border=\"1\" class=\"dataframe\">\n",
       "  <thead>\n",
       "    <tr style=\"text-align: right;\">\n",
       "      <th></th>\n",
       "      <th>gold_label</th>\n",
       "      <th>sentence1</th>\n",
       "      <th>sentence2</th>\n",
       "    </tr>\n",
       "  </thead>\n",
       "  <tbody>\n",
       "    <tr>\n",
       "      <th>0</th>\n",
       "      <td>-1</td>\n",
       "      <td>saudi stock exchange appoints its first female...</td>\n",
       "      <td>saudi stock exchange appointed sarah al ceo i...</td>\n",
       "    </tr>\n",
       "    <tr>\n",
       "      <th>1</th>\n",
       "      <td>-1</td>\n",
       "      <td>what makes fireworks explode</td>\n",
       "      <td>hollywood actor morgan freeman said would lik...</td>\n",
       "    </tr>\n",
       "    <tr>\n",
       "      <th>2</th>\n",
       "      <td>-1</td>\n",
       "      <td>60 british firms to increase investment in india</td>\n",
       "      <td>india business council chairperson said 60 br...</td>\n",
       "    </tr>\n",
       "    <tr>\n",
       "      <th>3</th>\n",
       "      <td>-1</td>\n",
       "      <td>railways increase senior citizen women quota</td>\n",
       "      <td>indian railways wednesday increased lower ber...</td>\n",
       "    </tr>\n",
       "    <tr>\n",
       "      <th>4</th>\n",
       "      <td>-1</td>\n",
       "      <td>pilots arrested in scotland for drinking befor...</td>\n",
       "      <td>two pilots arrested saturday glasgow scotland...</td>\n",
       "    </tr>\n",
       "  </tbody>\n",
       "</table>\n",
       "</div>"
      ],
      "text/plain": [
       "   gold_label                                          sentence1  \\\n",
       "0          -1  saudi stock exchange appoints its first female...   \n",
       "1          -1                      what makes fireworks explode    \n",
       "2          -1  60 british firms to increase investment in india    \n",
       "3          -1      railways increase senior citizen women quota    \n",
       "4          -1  pilots arrested in scotland for drinking befor...   \n",
       "\n",
       "                                           sentence2  \n",
       "0   saudi stock exchange appointed sarah al ceo i...  \n",
       "1   hollywood actor morgan freeman said would lik...  \n",
       "2   india business council chairperson said 60 br...  \n",
       "3   indian railways wednesday increased lower ber...  \n",
       "4   two pilots arrested saturday glasgow scotland...  "
      ]
     },
     "execution_count": 10,
     "metadata": {},
     "output_type": "execute_result"
    }
   ],
   "source": [
    "# rw = pd.read_csv('../datasets/Transformer_generated_summaries.csv', encoding='utf-8')\n",
    "# rw = pd.read_csv('ins.csv', encoding='utf-8')\n",
    "rw_ = pd.read_csv('test_sets/ins.csv', encoding='ansi')\n",
    "# rw = pd.read_csv('../datasets/test_data/Transformer_generated_summaries.csv', encoding='utf-8')\n",
    "\n",
    "rw_.drop(['text'], axis = 1, inplace=True)\n",
    "rw_.rename(columns = {'original_summary':'sentence1'}, inplace = True)\n",
    "rw_.rename(columns = {'Predicted_summary':'sentence2'}, inplace = True)\n",
    "\n",
    "gold = [-1] * 100\n",
    "rw_.insert(loc=0, column='gold_label', value=gold)\n",
    "rw_ = rw_[['gold_label', 'sentence1', 'sentence2']]\n",
    "# rw = rw[['sentence1', 'sentence2']]\n",
    "rw_ = rw_.dropna()\n",
    "rw_.head()"
   ]
  },
  {
   "cell_type": "code",
   "execution_count": 11,
   "metadata": {},
   "outputs": [
    {
     "data": {
      "text/html": [
       "<div>\n",
       "<style scoped>\n",
       "    .dataframe tbody tr th:only-of-type {\n",
       "        vertical-align: middle;\n",
       "    }\n",
       "\n",
       "    .dataframe tbody tr th {\n",
       "        vertical-align: top;\n",
       "    }\n",
       "\n",
       "    .dataframe thead th {\n",
       "        text-align: right;\n",
       "    }\n",
       "</style>\n",
       "<table border=\"1\" class=\"dataframe\">\n",
       "  <thead>\n",
       "    <tr style=\"text-align: right;\">\n",
       "      <th></th>\n",
       "      <th>gold_label</th>\n",
       "      <th>sentence1</th>\n",
       "      <th>sentence2</th>\n",
       "    </tr>\n",
       "  </thead>\n",
       "  <tbody>\n",
       "    <tr>\n",
       "      <th>0</th>\n",
       "      <td>-1</td>\n",
       "      <td>saudi stock exchange appoints its first female...</td>\n",
       "      <td>saudi stock exchange appointed sarah al ceo i...</td>\n",
       "    </tr>\n",
       "    <tr>\n",
       "      <th>1</th>\n",
       "      <td>-1</td>\n",
       "      <td>what makes fireworks explode</td>\n",
       "      <td>hollywood actor morgan freeman said would lik...</td>\n",
       "    </tr>\n",
       "    <tr>\n",
       "      <th>2</th>\n",
       "      <td>-1</td>\n",
       "      <td>60 british firms to increase investment in india</td>\n",
       "      <td>india business council chairperson said 60 br...</td>\n",
       "    </tr>\n",
       "    <tr>\n",
       "      <th>3</th>\n",
       "      <td>-1</td>\n",
       "      <td>railways increase senior citizen women quota</td>\n",
       "      <td>indian railways wednesday increased lower ber...</td>\n",
       "    </tr>\n",
       "    <tr>\n",
       "      <th>4</th>\n",
       "      <td>-1</td>\n",
       "      <td>pilots arrested in scotland for drinking befor...</td>\n",
       "      <td>two pilots arrested saturday glasgow scotland...</td>\n",
       "    </tr>\n",
       "  </tbody>\n",
       "</table>\n",
       "</div>"
      ],
      "text/plain": [
       "   gold_label                                          sentence1  \\\n",
       "0          -1  saudi stock exchange appoints its first female...   \n",
       "1          -1                      what makes fireworks explode    \n",
       "2          -1  60 british firms to increase investment in india    \n",
       "3          -1      railways increase senior citizen women quota    \n",
       "4          -1  pilots arrested in scotland for drinking befor...   \n",
       "\n",
       "                                           sentence2  \n",
       "0   saudi stock exchange appointed sarah al ceo i...  \n",
       "1   hollywood actor morgan freeman said would lik...  \n",
       "2   india business council chairperson said 60 br...  \n",
       "3   indian railways wednesday increased lower ber...  \n",
       "4   two pilots arrested saturday glasgow scotland...  "
      ]
     },
     "execution_count": 11,
     "metadata": {},
     "output_type": "execute_result"
    }
   ],
   "source": [
    "rw_.head()"
   ]
  },
  {
   "cell_type": "code",
   "execution_count": 12,
   "metadata": {},
   "outputs": [
    {
     "data": {
      "text/plain": [
       "'saudi stock exchange appointed sarah al ceo investment bank ncb capital first female head first woman chair major government financial institution kingdom chair arab world 39 largest stock exchange time preparing offer shares public '"
      ]
     },
     "execution_count": 12,
     "metadata": {},
     "output_type": "execute_result"
    }
   ],
   "source": [
    "rw['sentence1'][0]"
   ]
  },
  {
   "cell_type": "code",
   "execution_count": 13,
   "metadata": {},
   "outputs": [
    {
     "data": {
      "text/plain": [
       "' saudi stock exchange appointed sarah al ceo investment bank ncb capital first female'"
      ]
     },
     "execution_count": 13,
     "metadata": {},
     "output_type": "execute_result"
    }
   ],
   "source": [
    "rw_['sentence2'][0]"
   ]
  },
  {
   "cell_type": "code",
   "execution_count": 14,
   "metadata": {},
   "outputs": [
    {
     "data": {
      "text/plain": [
       "117"
      ]
     },
     "execution_count": 14,
     "metadata": {},
     "output_type": "execute_result"
    }
   ],
   "source": [
    "len(rw['sentence2'][8])"
   ]
  },
  {
   "cell_type": "code",
   "execution_count": 15,
   "metadata": {
    "id": "nlhVFSEXntjC"
   },
   "outputs": [],
   "source": [
    "# train_df['sentence1'] = train_df['sentence1'].astype(str).apply(lambda text: clean_text(text))\n",
    "# train_df['sentence2'] = train_df['sentence2'].astype(str).apply(lambda text: clean_text(text))\n",
    "# val_df['sentence1'] = val_df['sentence1'].astype(str).apply(lambda text: clean_text(text))\n",
    "# val_df['sentence2'] = val_df['sentence2'].astype(str).apply(lambda text: clean_text(text))\n",
    "rw['sentence1'] = rw['sentence1'].astype(str).apply(lambda text: clean_text(text))\n",
    "rw['sentence2'] = rw['sentence2'].astype(str).apply(lambda text: clean_text(text))\n",
    "rw_['sentence1'] = rw_['sentence1'].astype(str).apply(lambda text: clean_text(text))\n",
    "rw_['sentence2'] = rw_['sentence2'].astype(str).apply(lambda text: clean_text(text))"
   ]
  },
  {
   "cell_type": "code",
   "execution_count": 16,
   "metadata": {},
   "outputs": [],
   "source": [
    "# train_df = train_df[(train_df['sentence1'].str.split().str.len() > 0) & (train_df['sentence2'].str.split().str.len() > 0)]\n",
    "# val_df = val_df[(val_df['sentence1'].str.split().str.len() > 0) & (val_df['sentence2'].str.split().str.len() > 0)]\n",
    "# print(train_df[(train_df['sentence1'].str.split().str.len() == 0) | (train_df['sentence2'].str.split().str.len() == 0)])\n",
    "# print(val_df[(val_df['sentence1'].str.split().str.len() == 0) | (val_df['sentence2'].str.split().str.len() == 0)])"
   ]
  },
  {
   "cell_type": "code",
   "execution_count": 17,
   "metadata": {
    "colab": {
     "base_uri": "https://localhost:8080/",
     "height": 402
    },
    "id": "HDGOe_fln-hK",
    "outputId": "b7b3299e-c3ab-4c24-a277-07e42e904efb"
   },
   "outputs": [],
   "source": [
    "# train_df.head()"
   ]
  },
  {
   "cell_type": "code",
   "execution_count": 18,
   "metadata": {
    "colab": {
     "base_uri": "https://localhost:8080/",
     "height": 402
    },
    "id": "C1W3s5Ojn_mX",
    "outputId": "a7b88a51-54b3-4fed-d2ff-52ba129a56d8"
   },
   "outputs": [],
   "source": [
    "# val_df.head()"
   ]
  },
  {
   "cell_type": "code",
   "execution_count": 19,
   "metadata": {
    "id": "d1g-SvVOoAfP"
   },
   "outputs": [],
   "source": [
    "# train_val_df = pd.concat([train_df, val_df])"
   ]
  },
  {
   "cell_type": "code",
   "execution_count": 21,
   "metadata": {
    "id": "eihUwlHHoDZm"
   },
   "outputs": [
    {
     "name": "stdout",
     "output_type": "stream",
     "text": [
      "{'entailment': 0, 'neutral': 1, 'contradiction': 2}\n"
     ]
    }
   ],
   "source": [
    "# sentence_pairs, _ = pair_generator(train_val_df)\n",
    "rw_sentence_pairs, __ = pair_generator(rw)\n",
    "rw_sentence_pairs_, __ = pair_generator(rw_)\n",
    "# train_sentence_pairs, train_sentence_labels = pair_generator(train_df)\n",
    "# val_sentence_pairs, val_sentence_labels = pair_generator(val_df)\n",
    "\n",
    "# labels = set(train_sentence_labels)\n",
    "# print(labels)\n",
    "\n",
    "# tag2idx = {word: i for i, word in enumerate(labels)}\n",
    "# print(tag2idx)\n",
    "tag2idx = {'entailment': 0, 'neutral': 1, 'contradiction': 2}\n",
    "print(tag2idx)\n",
    "\n",
    "# train_labels = [tag2idx[t] for t in train_sentence_labels]\n",
    "# val_labels = [tag2idx[t] for t in val_sentence_labels]"
   ]
  },
  {
   "cell_type": "code",
   "execution_count": 22,
   "metadata": {},
   "outputs": [
    {
     "data": {
      "text/plain": [
       "('saudi stock exchange appoints its first female head',\n",
       " 'saudi stock exchange appointed sarah al ceo investment bank ncb capital first female')"
      ]
     },
     "execution_count": 22,
     "metadata": {},
     "output_type": "execute_result"
    }
   ],
   "source": [
    "rw_sentence_pairs_[0]"
   ]
  },
  {
   "cell_type": "code",
   "execution_count": 23,
   "metadata": {
    "colab": {
     "base_uri": "https://localhost:8080/"
    },
    "id": "EPSLm_XnoPKk",
    "outputId": "a79ec791-7bb5-4060-e26f-f0b08d5f7be8"
   },
   "outputs": [],
   "source": [
    "# vocab = Vocabulary()\n",
    "\n",
    "# for data in [rw_sentence_pairs]:\n",
    "#   for sen in data:\n",
    "#     premise    = sen[0]\n",
    "#     hypothesis = sen[1]\n",
    "#     vocab.addSentence(premise)\n",
    "#     vocab.addSentence(hypothesis)\n",
    "    \n",
    "# for data in [rw_sentence_pairs_]:\n",
    "#   for sen in data:\n",
    "#     premise    = sen[0]\n",
    "#     hypothesis = sen[1]\n",
    "#     vocab.addSentence(premise)\n",
    "#     vocab.addSentence(hypothesis)\n",
    "\n",
    "# for data in [sentence_pairs]:\n",
    "#   for sentence_pair in data:\n",
    "#     premise    = sentence_pair[0]\n",
    "#     hypothesis = sentence_pair[1]\n",
    "#     vocab.addSentence(premise)\n",
    "#     vocab.addSentence(hypothesis)\n",
    "\n",
    "# with open('saved_vocabs/voc.class', 'wb') as vocab_file:\n",
    "#     pickle.dump(vocab, vocab_file)\n",
    "# print(\"Vocab size:\", len(vocab.word2index))"
   ]
  },
  {
   "cell_type": "code",
   "execution_count": 28,
   "metadata": {},
   "outputs": [
    {
     "name": "stdout",
     "output_type": "stream",
     "text": [
      "Vocab size: 33830\n"
     ]
    }
   ],
   "source": [
    "with open('saved_vocabs/voc.class', 'rb') as vocab_file_r:\n",
    "    vocab = pickle.load(vocab_file_r)\n",
    "print(\"Vocab size:\", len(vocab.word2index))"
   ]
  },
  {
   "cell_type": "code",
   "execution_count": 29,
   "metadata": {
    "id": "neSP5WajoSat"
   },
   "outputs": [],
   "source": [
    "index2word = {}\n",
    "for wrd, idx in vocab.word2index.items():\n",
    "    # print(wrd, idx)\n",
    "    index2word[idx] = wrd"
   ]
  },
  {
   "cell_type": "markdown",
   "metadata": {},
   "source": [
    "## Model"
   ]
  },
  {
   "cell_type": "code",
   "execution_count": null,
   "metadata": {
    "id": "T8t7_OJcozF0"
   },
   "outputs": [],
   "source": [
    "EPOCHS = 15\n",
    "BATCH_SIZE = 32\n",
    "EMBEDDING_SIZE = 300\n",
    "VOCAB_SIZE = len(vocab.word2index)\n",
    "TARGET_SIZE = len(tag2idx)\n",
    "HIDDEN_SIZE = 128\n",
    "LEARNING_RATE = 0.005\n",
    "STACKED_LAYERS = 2\n",
    "EMBEDDING_PATH = '../../../../embeddings/google_news/GoogleNews-vectors-negative300.bin'\n",
    "GLOVE_EMBEDDING = '../../../../embeddings/glove/glove.6B.300d.txt'\n",
    "# EMBEDDING_PATH = '../embeddings/google_news/GoogleNews-vectors-negative300.bin'\n",
    "# GLOVE_EMBEDDING = '../embeddings/glove/glove.6B.300d.txt'\n",
    "\n",
    "initiate_model_vocab(vocab, tag2idx)"
   ]
  },
  {
   "cell_type": "code",
   "execution_count": null,
   "metadata": {
    "id": "1ZKtFMQ6oTVk"
   },
   "outputs": [],
   "source": [
    "train_data = DataSetLoader(get_pair_indices(vocab, train_sentence_pairs), train_labels)\n",
    "val_data   = DataSetLoader(get_pair_indices(vocab, val_sentence_pairs), val_labels)"
   ]
  },
  {
   "cell_type": "code",
   "execution_count": null,
   "metadata": {
    "colab": {
     "base_uri": "https://localhost:8080/"
    },
    "id": "_UoB3xqDyRLG",
    "outputId": "505953f5-3b5c-48e5-a52c-ea0980e577a2"
   },
   "outputs": [],
   "source": [
    "train_loader = torch.utils.data.DataLoader(train_data, batch_size = BATCH_SIZE, collate_fn=lambda x:x)\n",
    "val_loader   = torch.utils.data.DataLoader(val_data, batch_size = BATCH_SIZE, collate_fn=lambda x:x)\n",
    "\n",
    "print(len(train_loader), len(val_loader))"
   ]
  },
  {
   "cell_type": "code",
   "execution_count": null,
   "metadata": {
    "id": "8m4Riv3kzvGI"
   },
   "outputs": [],
   "source": [
    "embeddings_index = load_embeddings(GLOVE_EMBEDDING)"
   ]
  },
  {
   "cell_type": "code",
   "execution_count": null,
   "metadata": {
    "colab": {
     "base_uri": "https://localhost:8080/"
    },
    "id": "mvnD6Q6yzwbJ",
    "outputId": "17464d30-1cb3-422d-8598-bdc1d177ae81"
   },
   "outputs": [],
   "source": [
    "weights = 1 * np.random.randn(VOCAB_SIZE + 1, EMBEDDING_SIZE)\n",
    "embedded_count = 0\n",
    "for word, lang_word_index in vocab.word2index.items():\n",
    "  if embeddings_index.get(word) is not None:\n",
    "    weights[lang_word_index] = embeddings_index.get(word)\n",
    "    embedded_count += 1\n",
    "\n",
    "print(\"Embedded count:\", embedded_count)\n",
    "del embeddings_index\n",
    "weights.shape"
   ]
  },
  {
   "cell_type": "code",
   "execution_count": null,
   "metadata": {
    "colab": {
     "base_uri": "https://localhost:8080/"
    },
    "id": "z9fEl77ezx5X",
    "outputId": "5f001020-d2de-4d7a-c74c-ba3a00b50010"
   },
   "outputs": [],
   "source": [
    "device = torch.device(\"cuda:0\" if torch.cuda.is_available() else \"cpu\")\n",
    "print(device)"
   ]
  },
  {
   "cell_type": "code",
   "execution_count": null,
   "metadata": {},
   "outputs": [],
   "source": [
    "lstm_model = LSTM(VOCAB_SIZE, HIDDEN_SIZE, TARGET_SIZE, STACKED_LAYERS, weights, True)\n",
    "lstm_model.to(device)\n",
    "print(lstm_model)\n",
    "\n",
    "criterion = nn.CrossEntropyLoss()\n",
    "optimizer = optim.Adam(lstm_model.parameters(), lr=LEARNING_RATE, weight_decay=1e-5)"
   ]
  },
  {
   "cell_type": "code",
   "execution_count": null,
   "metadata": {},
   "outputs": [],
   "source": [
    "train(lstm_model, train_loader, val_loader, criterion, optimizer)"
   ]
  },
  {
   "cell_type": "code",
   "execution_count": null,
   "metadata": {},
   "outputs": [],
   "source": [
    "# Print model's state_dict\n",
    "print(\"Model's state_dict:\")\n",
    "for param_tensor in lstm_model.state_dict():\n",
    "    print(param_tensor, \"\\t\", lstm_model.state_dict()[param_tensor].size())"
   ]
  },
  {
   "cell_type": "code",
   "execution_count": null,
   "metadata": {},
   "outputs": [],
   "source": [
    "# Print optimizer's state_dict\n",
    "print(\"Optimizer's state_dict:\")\n",
    "for var_name in optimizer.state_dict():\n",
    "    print(var_name, \"\\t\", optimizer.state_dict()[var_name])"
   ]
  },
  {
   "cell_type": "code",
   "execution_count": null,
   "metadata": {},
   "outputs": [],
   "source": [
    "torch.save(lstm_model, 'sm_2')"
   ]
  },
  {
   "cell_type": "code",
   "execution_count": 30,
   "metadata": {
    "colab": {
     "base_uri": "https://localhost:8080/"
    },
    "id": "WsH495dMz4Xu",
    "outputId": "0632ab0c-b244-4bab-bd1d-e24426d6b445"
   },
   "outputs": [
    {
     "data": {
      "text/plain": [
       "LSTM(\n",
       "  (embedding): Embedding(33589, 300)\n",
       "  (lstm): LSTM(300, 128, num_layers=2, batch_first=True, dropout=0.2, bidirectional=True)\n",
       "  (relu): ReLU()\n",
       "  (dropout): Dropout(p=0.2, inplace=False)\n",
       "  (FC_concat1): Linear(in_features=512, out_features=128, bias=True)\n",
       "  (FC_concat2): Linear(in_features=128, out_features=64, bias=True)\n",
       "  (FC_concat3): Linear(in_features=64, out_features=32, bias=True)\n",
       "  (output): Linear(in_features=32, out_features=3, bias=True)\n",
       "  (out): Sequential(\n",
       "    (0): Linear(in_features=512, out_features=128, bias=True)\n",
       "    (1): ReLU()\n",
       "    (2): Dropout(p=0.2, inplace=False)\n",
       "    (3): Linear(in_features=128, out_features=64, bias=True)\n",
       "    (4): ReLU()\n",
       "    (5): Linear(in_features=64, out_features=32, bias=True)\n",
       "    (6): ReLU()\n",
       "    (7): Dropout(p=0.2, inplace=False)\n",
       "    (8): Linear(in_features=32, out_features=3, bias=True)\n",
       "  )\n",
       ")"
      ]
     },
     "execution_count": 30,
     "metadata": {},
     "output_type": "execute_result"
    }
   ],
   "source": [
    "lstm_model = torch.load('saved_models/sm_2')\n",
    "lstm_model.eval()"
   ]
  },
  {
   "cell_type": "code",
   "execution_count": 31,
   "metadata": {
    "colab": {
     "base_uri": "https://localhost:8080/"
    },
    "id": "dkfY79IF0Eav",
    "outputId": "d0797bd8-350e-4e8d-a8cd-bb39afe9d168"
   },
   "outputs": [
    {
     "name": "stdout",
     "output_type": "stream",
     "text": [
      "Linear(in_features=32, out_features=3, bias=True)\n"
     ]
    }
   ],
   "source": [
    "print(lstm_model.output)"
   ]
  },
  {
   "cell_type": "code",
   "execution_count": null,
   "metadata": {
    "colab": {
     "base_uri": "https://localhost:8080/"
    },
    "id": "vufrSKr90mt0",
    "outputId": "ba80614c-2cb8-4d80-c941-c770f779b7c4"
   },
   "outputs": [],
   "source": [
    "sentence_o = [''] * len(rw)\n",
    "sentence_p = [''] * len(rw)\n",
    "# sentence_o = ['']\n",
    "# sentence_p = ['']\n",
    "\n",
    "# sentence_o[0] = \"rock music is very good for public\"\n",
    "# sentence_p[0] = \"people dont like rock and roll\"\n",
    "# sentence_o = \"uk india business council chairperson said 60 british firms likely increase investment india next years firms positive reforms fdi introduced last two years added india even important britain said\"\n",
    "# sentence_p = \"60 british firms to increase investment in india\"\n",
    "# sentence_o = clean_text(sentence_o)\n",
    "# sentence_p = clean_text(sentence_p)\n",
    "\n",
    "\n",
    "# sen_p1 = [(sentence_o, sentence_p)]\n",
    "# # sen_p2 = []\n",
    "# for i in range(rw):\n",
    "#   sen1 = sentence_o[i]\n",
    "#   sen2 = sentence_p[i]\n",
    "#   sen_p1.append((sen1, sen2))\n",
    "# for i in range(rw_):\n",
    "#   sen2 = sentence_o[i]\n",
    "#   sen1 = sentence_p[i]\n",
    "#   sen_p2.append((sen1, sen2))\n",
    "\n",
    "# sen_p1"
   ]
  },
  {
   "cell_type": "code",
   "execution_count": 32,
   "metadata": {
    "colab": {
     "base_uri": "https://localhost:8080/"
    },
    "id": "N5QABAtRQynp",
    "outputId": "d2b0fd48-e128-482f-fff4-005d59b99896"
   },
   "outputs": [
    {
     "name": "stdout",
     "output_type": "stream",
     "text": [
      "rw[0]:  ('saudi stock exchange appoints its first female head', 'saudi stock exchange appointed sarah al ceo investment bank ncb capital first female')\n",
      "rrw[0]:  ('saudi stock exchange appointed sarah al ceo investment bank ncb capital first female', 'saudi stock exchange appoints its first female head')\n"
     ]
    }
   ],
   "source": [
    "rrw_sentence_pairs_ = []\n",
    "for i in range(len(rw_sentence_pairs_)):\n",
    "    rrw_sentence_pairs_.append((rw_sentence_pairs_[i][1], rw_sentence_pairs_[i][0]))\n",
    "print('rw[0]: ', rw_sentence_pairs_[0])\n",
    "print('rrw[0]: ', rrw_sentence_pairs_[0])"
   ]
  },
  {
   "cell_type": "code",
   "execution_count": 33,
   "metadata": {},
   "outputs": [],
   "source": [
    "# rw_sentence_pairs, __ = pair_generator(rw)"
   ]
  },
  {
   "cell_type": "code",
   "execution_count": 34,
   "metadata": {
    "colab": {
     "base_uri": "https://localhost:8080/"
    },
    "id": "SKnftM-cSWiC",
    "outputId": "9d57aebc-60f6-4348-cef1-bd37278456ac"
   },
   "outputs": [],
   "source": [
    "id_pairs = get_pair_indices(vocab, rw_sentence_pairs)\n",
    "id_pairs_1 = get_pair_indices(vocab, rw_sentence_pairs_)\n",
    "id_pairs_2 = get_pair_indices(vocab, rrw_sentence_pairs_)\n",
    "# id_pairs = get_pair_indices(vocab, sen_p1)\n",
    "# id_pairs = get_pair_indices(vocab, sen_p2)\n",
    "# id_pairs[0]"
   ]
  },
  {
   "cell_type": "code",
   "execution_count": null,
   "metadata": {},
   "outputs": [],
   "source": [
    "id_pairs"
   ]
  },
  {
   "cell_type": "code",
   "execution_count": 35,
   "metadata": {
    "colab": {
     "base_uri": "https://localhost:8080/"
    },
    "id": "GzurbdbC0pe9",
    "outputId": "e65643f5-9519-47e0-87b7-bd03ce07a9ea"
   },
   "outputs": [
    {
     "name": "stdout",
     "output_type": "stream",
     "text": [
      "100\n"
     ]
    }
   ],
   "source": [
    "premise_seq    = [torch.tensor(seq[0]).long().to(device) for seq in id_pairs]\n",
    "hypothesis_seq = [torch.tensor(seq[1]).long().to(device) for seq in id_pairs]\n",
    "\n",
    "premise_len    = list(map(len, premise_seq))\n",
    "hypothesis_len = list(map(len, hypothesis_seq))\n",
    "\n",
    "batch = len(premise_seq)\n",
    "temp = pad_sequence(premise_seq + hypothesis_seq, batch_first=True)\n",
    "premise_seq    = temp[:batch, :]\n",
    "hypothesis_seq = temp[batch:, :]\n",
    "\n",
    "prediction = lstm_model([premise_seq, hypothesis_seq], premise_len, hypothesis_len)\n",
    "# prediction = prediction[prediction!=prediction[0,3]]\n",
    "\n",
    "prediction_list = prediction.to('cpu')\n",
    "prediction_list = prediction_list.tolist()\n",
    "print(len(prediction_list))"
   ]
  },
  {
   "cell_type": "code",
   "execution_count": 36,
   "metadata": {},
   "outputs": [
    {
     "name": "stdout",
     "output_type": "stream",
     "text": [
      "100\n"
     ]
    }
   ],
   "source": [
    "premise_seq    = [torch.tensor(seq[0]).long().to(device) for seq in id_pairs_1]\n",
    "hypothesis_seq = [torch.tensor(seq[1]).long().to(device) for seq in id_pairs_1]\n",
    "\n",
    "premise_len    = list(map(len, premise_seq))\n",
    "hypothesis_len = list(map(len, hypothesis_seq))\n",
    "\n",
    "batch = len(premise_seq)\n",
    "temp = pad_sequence(premise_seq + hypothesis_seq, batch_first=True)\n",
    "premise_seq    = temp[:batch, :]\n",
    "hypothesis_seq = temp[batch:, :]\n",
    "\n",
    "prediction_1 = lstm_model([premise_seq, hypothesis_seq], premise_len, hypothesis_len)\n",
    "# prediction = prediction[prediction!=prediction[0,3]]\n",
    "\n",
    "prediction_list = prediction_1.to('cpu')\n",
    "prediction_list = prediction_list.tolist()\n",
    "print(len(prediction_list))"
   ]
  },
  {
   "cell_type": "code",
   "execution_count": 37,
   "metadata": {},
   "outputs": [
    {
     "name": "stdout",
     "output_type": "stream",
     "text": [
      "100\n"
     ]
    }
   ],
   "source": [
    "premise_seq    = [torch.tensor(seq[0]).long().to(device) for seq in id_pairs_2]\n",
    "hypothesis_seq = [torch.tensor(seq[1]).long().to(device) for seq in id_pairs_2]\n",
    "\n",
    "premise_len    = list(map(len, premise_seq))\n",
    "hypothesis_len = list(map(len, hypothesis_seq))\n",
    "\n",
    "batch = len(premise_seq)\n",
    "temp = pad_sequence(premise_seq + hypothesis_seq, batch_first=True)\n",
    "premise_seq    = temp[:batch, :]\n",
    "hypothesis_seq = temp[batch:, :]\n",
    "\n",
    "prediction_2 = lstm_model([premise_seq, hypothesis_seq], premise_len, hypothesis_len)\n",
    "# prediction = prediction[prediction!=prediction[0,3]]\n",
    "\n",
    "prediction_list = prediction_2.to('cpu')\n",
    "prediction_list = prediction_list.tolist()\n",
    "print(len(prediction_list))"
   ]
  },
  {
   "cell_type": "code",
   "execution_count": null,
   "metadata": {},
   "outputs": [],
   "source": [
    "prediction"
   ]
  },
  {
   "cell_type": "code",
   "execution_count": 38,
   "metadata": {},
   "outputs": [
    {
     "data": {
      "text/plain": [
       "[2,\n",
       " 0,\n",
       " 0,\n",
       " 0,\n",
       " 0,\n",
       " 1,\n",
       " 0,\n",
       " 1,\n",
       " 1,\n",
       " 0,\n",
       " 2,\n",
       " 2,\n",
       " 1,\n",
       " 2,\n",
       " 1,\n",
       " 1,\n",
       " 0,\n",
       " 1,\n",
       " 1,\n",
       " 1,\n",
       " 2,\n",
       " 1,\n",
       " 1,\n",
       " 1,\n",
       " 1,\n",
       " 1,\n",
       " 1,\n",
       " 2,\n",
       " 0,\n",
       " 0,\n",
       " 1,\n",
       " 1,\n",
       " 0,\n",
       " 1,\n",
       " 0,\n",
       " 0,\n",
       " 1,\n",
       " 2,\n",
       " 1,\n",
       " 2,\n",
       " 2,\n",
       " 0,\n",
       " 0,\n",
       " 1,\n",
       " 0,\n",
       " 0,\n",
       " 2,\n",
       " 1,\n",
       " 2,\n",
       " 2,\n",
       " 1,\n",
       " 1,\n",
       " 1,\n",
       " 1,\n",
       " 0,\n",
       " 1,\n",
       " 1,\n",
       " 1,\n",
       " 2,\n",
       " 2,\n",
       " 1,\n",
       " 0,\n",
       " 1,\n",
       " 2,\n",
       " 2,\n",
       " 1,\n",
       " 0,\n",
       " 0,\n",
       " 0,\n",
       " 1,\n",
       " 0,\n",
       " 2,\n",
       " 0,\n",
       " 1,\n",
       " 1,\n",
       " 0,\n",
       " 0,\n",
       " 2,\n",
       " 2,\n",
       " 0,\n",
       " 2,\n",
       " 0,\n",
       " 2,\n",
       " 0,\n",
       " 0,\n",
       " 2,\n",
       " 0,\n",
       " 0,\n",
       " 1,\n",
       " 0,\n",
       " 2,\n",
       " 1,\n",
       " 2,\n",
       " 1,\n",
       " 2,\n",
       " 0,\n",
       " 0,\n",
       " 2,\n",
       " 0,\n",
       " 1]"
      ]
     },
     "execution_count": 38,
     "metadata": {},
     "output_type": "execute_result"
    }
   ],
   "source": [
    "soft = torch.log_softmax(prediction, dim=1).argmax(dim=1)\n",
    "soft.tolist()\n",
    "soft_1 = torch.log_softmax(prediction_1, dim=1).argmax(dim=1)\n",
    "soft_1.tolist()\n",
    "soft_2 = torch.log_softmax(prediction_2, dim=1).argmax(dim=1)\n",
    "soft_2.tolist()"
   ]
  },
  {
   "cell_type": "code",
   "execution_count": 39,
   "metadata": {},
   "outputs": [
    {
     "name": "stdout",
     "output_type": "stream",
     "text": [
      "tensor([0, 0, 0, 0, 0, 1, 0, 1, 0, 0, 0, 0, 0, 0, 0, 0, 0, 0, 1, 0, 2, 2, 1, 0,\n",
      "        0, 0, 0, 0, 0, 0, 0, 0, 0, 1, 1, 0, 0, 0, 0, 1, 0, 0, 0, 0, 0, 0, 1, 1,\n",
      "        1, 0, 0, 0, 0, 0, 0, 0, 1, 1, 0, 1, 0, 1, 0, 2, 0, 0, 0, 0, 0, 0, 0, 1,\n",
      "        1, 1, 0, 1, 0, 0, 1, 0, 0, 0, 0, 1, 0, 0, 0, 0, 1, 0, 1, 0, 1, 0, 0, 0,\n",
      "        0, 0, 0, 0], device='cuda:0') tensor([1, 2, 1, 1, 2, 1, 1, 1, 2, 1, 1, 2, 2, 1, 1, 1, 1, 0, 1, 2, 2, 1, 1, 2,\n",
      "        2, 1, 1, 2, 2, 2, 1, 1, 1, 1, 1, 1, 2, 2, 2, 1, 2, 1, 1, 2, 1, 2, 1, 1,\n",
      "        1, 2, 0, 2, 2, 2, 2, 2, 1, 1, 1, 1, 2, 2, 2, 2, 2, 2, 2, 2, 2, 1, 0, 1,\n",
      "        1, 1, 1, 1, 1, 2, 1, 1, 0, 2, 1, 1, 2, 2, 1, 1, 2, 1, 1, 1, 1, 2, 0, 1,\n",
      "        2, 2, 1, 2], device='cuda:0') tensor([2, 0, 0, 0, 0, 1, 0, 1, 1, 0, 2, 2, 1, 2, 1, 1, 0, 1, 1, 1, 2, 1, 1, 1,\n",
      "        1, 1, 1, 2, 0, 0, 1, 1, 0, 1, 0, 0, 1, 2, 1, 2, 2, 0, 0, 1, 0, 0, 2, 1,\n",
      "        2, 2, 1, 1, 1, 1, 0, 1, 1, 1, 2, 2, 1, 0, 1, 2, 2, 1, 0, 0, 0, 1, 0, 2,\n",
      "        0, 1, 1, 0, 0, 2, 2, 0, 2, 0, 2, 0, 0, 2, 0, 0, 1, 0, 2, 1, 2, 1, 2, 0,\n",
      "        0, 2, 0, 1], device='cuda:0')\n"
     ]
    }
   ],
   "source": [
    "print(soft, soft_1, soft_2)"
   ]
  },
  {
   "cell_type": "code",
   "execution_count": 42,
   "metadata": {},
   "outputs": [
    {
     "name": "stdout",
     "output_type": "stream",
     "text": [
      "('bjp led opposition friday slammed nitish kumar led state government bihar assembly alleged increase crimes state including recent killing opposition leaders opposition also brought alleged rape minor girl rjd mla raised anti government slogans following houses adjourned', 'opposition also brought alleged rape minor girl rjd mla raised anti government slogans following')\n",
      "('chinese president xi jinping told ukrainian counterpart petro poroshenko china willing play constructive role seeking political resolution ukraine crisis also discussed opportunities economic development bilateral meeting sidelines world economic forum eastern ukraine facing civil war since russia annexed crimea', 'chinese president xi jinping told ukrainian counterpart petro por')\n",
      "('part cricketer ravindra jadeja restaurant jaddu food field rajkot demolished rajkot municipal corporation drive illegal construction city thursday store room kitchen constructed illegally part restaurant pulled corporation earlier issued notices illegal constructions', 'rajkot municipal corporation earlier issued notices illegal constructions part cricketer')\n",
      "3\n"
     ]
    }
   ],
   "source": [
    "ctr = 0\n",
    "for i in range(len(soft)):\n",
    "    if soft[i] == 2:\n",
    "        print(rw_sentence_pairs[i])\n",
    "        ctr = ctr + 1\n",
    "print(ctr)"
   ]
  },
  {
   "cell_type": "code",
   "execution_count": null,
   "metadata": {},
   "outputs": [],
   "source": [
    "ctr_1 = 0\n",
    "for i in range(len(soft_1)):\n",
    "    if soft_1[i] == 2:\n",
    "        print(rw_sentence_pairs_[i])\n",
    "        ctr_1 = ctr_1 + 1\n",
    "print(ctr_1)"
   ]
  },
  {
   "cell_type": "code",
   "execution_count": null,
   "metadata": {},
   "outputs": [],
   "source": [
    "ctr_2 = 0\n",
    "for i in range(len(soft_2)):\n",
    "    if soft_2[i] == 0:\n",
    "        print(rrw_sentence_pairs_[i])\n",
    "        ctr_2 = ctr_2 + 1\n",
    "print(ctr_2)"
   ]
  },
  {
   "cell_type": "code",
   "execution_count": null,
   "metadata": {},
   "outputs": [],
   "source": [
    "# id_pairs = get_pair_indices(vocab, rrw_sentence_pairs)\n",
    "# # id_pairs = get_pair_indices(vocab, sen_p2)\n",
    "# id_pairs[0]"
   ]
  },
  {
   "cell_type": "code",
   "execution_count": null,
   "metadata": {},
   "outputs": [],
   "source": [
    "# premise_seq    = [torch.tensor(seq[0]).long().to(device) for seq in id_pairs]\n",
    "# hypothesis_seq = [torch.tensor(seq[1]).long().to(device) for seq in id_pairs]\n",
    "\n",
    "# premise_len    = list(map(len, premise_seq))\n",
    "# hypothesis_len = list(map(len, hypothesis_seq))\n",
    "\n",
    "# batch = len(premise_seq)\n",
    "# temp = pad_sequence(premise_seq + hypothesis_seq, batch_first=True)\n",
    "# premise_seq    = temp[:batch, :]\n",
    "# hypothesis_seq = temp[batch:, :]\n",
    "\n",
    "# prediction = lstm_model([premise_seq, hypothesis_seq], premise_len, hypothesis_len)\n",
    "# # prediction = prediction[prediction!=prediction[0,3]]\n",
    "\n",
    "# prediction_list = prediction.to('cpu')\n",
    "# prediction_list = prediction_list.tolist()\n",
    "# print(len(prediction_list))"
   ]
  },
  {
   "cell_type": "code",
   "execution_count": null,
   "metadata": {},
   "outputs": [],
   "source": [
    "# prediction"
   ]
  },
  {
   "cell_type": "code",
   "execution_count": null,
   "metadata": {},
   "outputs": [],
   "source": [
    "# soft2 = torch.log_softmax(prediction, dim=1).argmax(dim=1)\n",
    "# soft2.tolist()"
   ]
  },
  {
   "cell_type": "code",
   "execution_count": null,
   "metadata": {},
   "outputs": [],
   "source": [
    "# ctr2 = 0\n",
    "# for i in range(len(soft)):\n",
    "#     if soft2[i] == 0:\n",
    "#         print(rrw_sentence_pairs[i])\n",
    "#         ctr2 = ctr2 + 1\n",
    "# print(ctr2)"
   ]
  },
  {
   "cell_type": "code",
   "execution_count": 43,
   "metadata": {},
   "outputs": [
    {
     "name": "stdout",
     "output_type": "stream",
     "text": [
      "e100:  1\n",
      "e50:  38\n",
      "n100:  19\n",
      "n50:  31\n",
      "c100:  11\n"
     ]
    }
   ],
   "source": [
    "e_100 = 0   # perfectly entailed pairs\n",
    "e_50 = 0    # entailment\n",
    "n_100 = 0   # perfectly neutral pairs\n",
    "n_50 = 0    # neutral\n",
    "cc = 0      # contradicting pairs\n",
    "for i in range(len(soft_1)):\n",
    "    if soft_1[i] == soft_2[i] == 0:\n",
    "        e_100 = e_100 + 1\n",
    "    elif (soft_1[i] == 0 and soft_2[i] == 1) or (soft_1[i] == 1 and soft_2[i] == 0) or (soft_1[i] == 0 and soft_2[i] == 2) or (soft_1[i] == 2 and soft_2[i] == 0):\n",
    "        e_50 = e_50 + 1\n",
    "    elif soft_1[i] == soft_2[i] == 1:\n",
    "        n_100 = n_100 + 1\n",
    "    elif (soft_1[i] == 1 and soft_2[i] == 2) or (soft_1[i] == 2 and soft_2[i] == 1):\n",
    "        n_50 = n_50 + 1\n",
    "    else: \n",
    "        cc = cc + 1\n",
    "print('e100: ', e_100)\n",
    "print('e50: ', e_50)\n",
    "print('n100: ', n_100)\n",
    "print('n50: ', n_50)\n",
    "print('c100: ', cc)"
   ]
  },
  {
   "cell_type": "code",
   "execution_count": null,
   "metadata": {},
   "outputs": [],
   "source": [
    "rw_sentence_pairs[0]"
   ]
  },
  {
   "cell_type": "code",
   "execution_count": null,
   "metadata": {},
   "outputs": [],
   "source": [
    "prediction[0]"
   ]
  },
  {
   "cell_type": "code",
   "execution_count": null,
   "metadata": {},
   "outputs": [],
   "source": [
    "rw_sentence_pairs[1]\n",
    "# 0: entailment\n",
    "# 1: neutral\n",
    "# 2: contradiction"
   ]
  },
  {
   "cell_type": "code",
   "execution_count": 44,
   "metadata": {},
   "outputs": [
    {
     "name": "stdout",
     "output_type": "stream",
     "text": [
      "torch.return_types.max(\n",
      "values=tensor([1.4908, 1.2091, 0.6716], device='cuda:0', grad_fn=<MaxBackward0>),\n",
      "indices=tensor([ 4, 18, 96], device='cuda:0')) torch.return_types.min(\n",
      "values=tensor([-0.4321, -0.3117, -1.3790], device='cuda:0', grad_fn=<MinBackward0>),\n",
      "indices=tensor([18, 96, 79], device='cuda:0'))\n",
      "1.8314221799373627\n"
     ]
    }
   ],
   "source": [
    "maxi = torch.max(prediction, dim=0)\n",
    "mini = torch.min(prediction, dim=0)\n",
    "# print(maxi[0][0])\n",
    "denom1 = float(maxi[0][0].to('cpu')) - float(mini[0][0].to('cpu'))\n",
    "denom2 = float(maxi[0][1].to('cpu')) - float(mini[0][1].to('cpu'))\n",
    "denom3 = float(maxi[0][2].to('cpu')) - float(mini[0][2].to('cpu'))\n",
    "denom = ( denom1 + denom2 + denom3 ) / 3\n",
    "print(maxi, mini)\n",
    "print(denom)"
   ]
  },
  {
   "cell_type": "code",
   "execution_count": 45,
   "metadata": {},
   "outputs": [
    {
     "name": "stdout",
     "output_type": "stream",
     "text": [
      "[[0.24731164388214988, 0.2060030725278753, -0.3668391358498671], [0.2576244015869797, -0.0989217967988879, 0.22527954228457175], [0.6017685480474289, -0.023536088484584904, -0.39276739559317936], [0.3295480524571151, -0.062226016292205415, -0.05347200336468929], [0.8139928166435216, -0.1578474866966397, -0.16294091431617133], [0.2888357481508716, 0.29973980970713704, -0.5425112352532242], [0.23695286676757632, 0.18005984183089815, -0.32189193929844584], [0.18611521831450137, 0.2869075544099377, -0.34782635015098123], [0.5608006635256847, -0.09983373942316362, -0.1724037286722289], [0.2663135756396287, -0.04403026632138657, -0.001951516696738485], [0.20689257499442942, 0.10309763514096805, -0.17841163746904898], [0.24805892228888762, 0.22811194908131313, -0.3938979629592895], [0.3642293731705637, -0.08422272867078061, -0.013638229605968893], [0.25862221564874405, 0.1918627626997583, -0.3690941520184157], [0.42002214692230305, 0.23649237976017543, -0.6698770791949291], [0.34286465065092486, -0.06177813254960174, -0.08831291525784433], [0.41188185359478063, 0.05574446801700655, -0.37923423930005196], [0.27406595853947346, 0.17255519566865576, -0.3721732866406646], [-0.235940553662643, 0.6601737532136901, -0.15499667539055598], [0.3997350076110213, -0.0767216625191972, -0.08436732855585251], [0.07678851108186605, -0.05549092596666512, 0.3619228048485256], [0.11972292800414683, 0.015209597989049431, 0.12500581955141782], [0.06527721462673239, 0.39584786458303756, -0.3078070382716646], [0.23822079263356177, -0.012959437209957096, -0.02816642138440607], [0.5625789524566611, -0.06948259619313708, -0.26862564415986107], [0.27597335567303377, 0.1914134062709517, -0.3973610049063883], [0.27264129329772696, -0.006930489239700281, -0.12147957414341207], [0.2592404346712251, -0.06076193838765856, 0.09526536918510056], [0.2994500566626187, -0.049169522145547255, -0.05902610106034871], [0.3615586201278516, -0.10649431670866968, 0.15927089893465554], [0.43187614803415675, -0.07255791484947902, -0.1562763990189404], [0.5158185455975625, 0.010448482824841909, -0.3928929563306557], [0.3143872280451005, -0.054388514570749155, -0.06796183207436021], [0.14201370164461297, 0.35736776201377946, -0.36373845607256133], [0.06527721462673239, 0.39584786458303756, -0.3078070382716646], [0.32072475818695956, 0.03941774804278783, -0.26365618254578493], [0.37887005457937795, 0.07438511974427789, -0.37608155173153646], [0.4840757627241186, -0.09567941369058888, -0.06693741609248313], [0.2463028782423241, -0.04266821058423317, 0.03058714729633283], [0.06527721462673239, 0.39584786458303756, -0.3078070382716646], [0.2966527665158869, -0.0704494187535376, 0.06615203904958462], [0.4492463597515935, -0.0476295439468358, -0.2137914019892915], [0.30263424832493335, 0.16627400187634866, -0.4114567436018009], [0.32985573810047986, -0.08736986722277468, 0.1106240380043517], [0.28800186603173766, 0.05929671325242325, -0.248507351169478], [0.2436060073945771, 0.21063581786669736, -0.36610028674095374], [0.21675320989857977, 0.27201047914683657, -0.39149863981563204], [0.2844930324937552, 0.31451220296265087, -0.552701052137469], [0.06527721462673239, 0.39584786458303756, -0.3078070382716646], [0.29804932867396033, -0.07114822869778528, 0.06192922120399306], [0.2509724163270552, -0.054274800413998944, 0.08188263843075375], [0.5799262521058802, 0.041599593675299314, -0.5236159389950562], [0.7259976517408265, -0.08735763009543121, -0.3565376226330617], [0.4239838192630968, 0.04937042583461968, -0.38087557655054616], [0.24995829694401667, 0.20269428022185196, -0.3673667643298999], [0.25093842249857046, -0.05828969286779374, 0.08365973944910243], [0.06527721462673239, 0.39584786458303756, -0.3078070382716646], [0.2450260186224669, 0.26366599502954574, -0.4303854966868547], [0.2445884111377321, -0.04971426144925243, 0.06080809204780206], [0.022709846433652776, 0.5488028761675452, -0.427746117555736], [0.6041080524675296, -0.028222318369013538, -0.382911105520147], [0.21350480586326334, 0.34267015843548715, -0.46589653368885225], [0.3172678998946354, 0.10407273240782355, -0.3505192341686762], [0.12422296072056241, -0.005280143482270835, 0.1521332201377357], [0.30176801592766267, 0.13891949843204482, -0.3756128957907227], [0.13714011922509498, 0.06657537124181669, 0.008162359211402412], [0.6546874845154369, -0.028324875503908876, -0.42228178455915694], [0.3792647019362048, -0.14962866095347954, 0.2976154639276417], [0.27319425848955997, -0.06798740474140842, 0.10049006928638719], [0.35813417720476703, 0.10986089364128433, -0.41801284966716723], [0.2576244015869797, -0.0989217967988879, 0.22527954228457175], [0.04483183884432309, 0.44826293082356794, -0.3384441836714054], [0.13912709023193928, 0.33573079595629984, -0.33020696969167856], [-0.031781870080729725, 0.19740025809598663, 0.07561584604496126], [0.2888935815957901, 0.18793191099618337, -0.4147344711789696], [0.07615667174610512, 0.38800009067190633, -0.311823712594401], [0.38960435853930425, 0.2682866822415573, -0.6611060530803949], [0.09890383165449004, 0.08876955375378681, 0.020569862516687933], [0.11338103675839407, 0.41287449291386524, -0.39745362954580193], [0.37599524092910325, 0.36713253399614737, -0.7529699076834042], [0.3065824793529801, -0.06748516585969701, 0.05031677317496711], [0.7144348031322034, -0.043210553721713174, -0.439854429606584], [0.178361403410393, 0.006814477061903477, 0.05979865922417166], [0.2582811708151478, 0.29018274343409367, -0.48334687255394754], [0.2601158937323305, 0.1899953965944758, -0.3693919438141411], [0.2706481874544352, 0.20704477426576381, -0.4067791016747599], [0.6082449175117539, -0.016661080765186922, -0.41174242845238856], [0.2960186815370763, 0.14577194801609722, -0.37516728210033234], [0.19467684635103588, 0.2744195659559277, -0.3514364979906132], [0.5890183075398718, -0.011832419343051445, -0.4073793067345159], [0.06527721462673239, 0.39584786458303756, -0.3078070382716646], [0.40720635967413504, -0.09008332002898312, -0.025643107826129493], [0.13230984679816296, 0.41445832217495543, -0.42989549086429285], [0.5467769155900694, -0.14414289671127364, 0.10981013885380524], [0.2687676892191445, -0.11445897796781704, 0.26767178286532367], [0.4175694490742751, 0.15995241905469787, -0.5628505125379215], [0.3811650366851015, -0.17019663582818365, 0.3667263329685574], [0.4756626725843809, 0.027423089125781088, -0.3876402996006775], [0.2722795657661871, -0.0577030226892451, 0.05057033556627819], [0.5415818644861494, 0.05223216430960121, -0.5065338204990141]]\n"
     ]
    }
   ],
   "source": [
    "aa = []\n",
    "for i in prediction:\n",
    "    a = []\n",
    "    for j in i:\n",
    "        a.append(float(j.to('cpu'))/denom)\n",
    "    aa.append(a)\n",
    "print(aa)"
   ]
  },
  {
   "cell_type": "code",
   "execution_count": 46,
   "metadata": {},
   "outputs": [
    {
     "name": "stdout",
     "output_type": "stream",
     "text": [
      "[0.28686092639838184, -0.006846415638814407, 0.3931071597593263, 0.14076281907028068, 0.35920399504454925, 0.3924867553030657, 0.2595498907925885, 0.2709581382681806, 0.2733150089945327, 0.09849998367026956, 0.17474121201358497, 0.30240514391553347, 0.13430249537645692, 0.2894590996068156, 0.4832581663989279, 0.16011539985358733, 0.3275953307613343, 0.2930067372057864, 0.09965719933390321, 0.17829660196291008, -0.12515190269999685, 0.0009287629789014873, 0.22840327407596633, 0.10396299816519572, 0.3185853194079814, 0.30761642548595913, 0.15626224912851555, 0.05343763851691811, 0.1335565586600775, 0.05961622513554449, 0.22074943585134305, 0.3655742973362556, 0.14206192113363447, 0.2737744154896256, 0.22840327407596633, 0.2416359259016554, 0.31685766647322133, 0.20126938878852293, 0.07775265026154989, 0.22840327407596633, 0.07811040723581339, 0.2556891959069868, 0.3188911971459635, 0.07021870659389631, 0.22646302953097092, 0.2860096812275518, 0.29770283571505207, 0.39778007444501984, 0.22840327407596633, 0.08021839724842986, 0.05678095107572079, 0.4497367951754344, 0.41554258373046904, 0.33181784349238114, 0.28746888055393705, 0.05525353464622847, 0.22840327407596633, 0.3228978051296378, 0.06356927534612153, 0.2899429608292645, 0.389163199521268, 0.3402945675079437, 0.28792940010688933, -0.012220132463323485, 0.2987362643737631, 0.06490617825384036, 0.42512273252905575, 0.0027339630127293456, 0.05548419473298742, 0.3324309894770306, -0.006846415638814407, 0.24296299517100498, 0.2548797831607071, -0.00347903483107907, 0.31903760330914055, 0.2327921718705837, 0.47394150109619115, 0.049087498405878206, 0.28690876510445146, 0.5250125662442324, 0.0890092492992658, 0.45307358235117234, 0.04878799308686923, 0.35468776603445684, 0.2898022143374838, 0.3123798705048308, 0.40466272223261956, 0.29762877505818286, 0.2733292509278452, 0.3961925618411448, 0.22840327407596633, 0.1551231229943092, 0.3077737994999734, 0.1459581313522509, -0.022453433052035066, 0.4241584684558182, -0.028263845679019094, 0.35080580669917955, 0.07714308754211455, 0.42969270685598565]\n"
     ]
    }
   ],
   "source": [
    "e_scores = []\n",
    "for i in aa:\n",
    "    e_scores.append((i[0] + i[1]*0.5 - i[2])/2.5)\n",
    "print(e_scores)"
   ]
  },
  {
   "cell_type": "code",
   "execution_count": 47,
   "metadata": {},
   "outputs": [],
   "source": [
    "E_labels = []\n",
    "for i in e_scores:\n",
    "    if i < 0:\n",
    "        E_labels.append('NEGATIVE ENTAILMENT')\n",
    "    elif i > 0.3:\n",
    "        E_labels.append('PERFECT ENTAILMENT')\n",
    "    else:\n",
    "        E_labels.append('NEUTRAL ENTAILMENT')"
   ]
  },
  {
   "cell_type": "code",
   "execution_count": 48,
   "metadata": {},
   "outputs": [
    {
     "name": "stdout",
     "output_type": "stream",
     "text": [
      "7\n"
     ]
    }
   ],
   "source": [
    "ctrr = 0\n",
    "for i in e_scores:\n",
    "    if i < 0:\n",
    "        ctrr = ctrr + 1\n",
    "print(ctrr)"
   ]
  },
  {
   "cell_type": "code",
   "execution_count": 68,
   "metadata": {},
   "outputs": [
    {
     "data": {
      "text/html": [
       "<div>\n",
       "<style scoped>\n",
       "    .dataframe tbody tr th:only-of-type {\n",
       "        vertical-align: middle;\n",
       "    }\n",
       "\n",
       "    .dataframe tbody tr th {\n",
       "        vertical-align: top;\n",
       "    }\n",
       "\n",
       "    .dataframe thead th {\n",
       "        text-align: right;\n",
       "    }\n",
       "</style>\n",
       "<table border=\"1\" class=\"dataframe\">\n",
       "  <thead>\n",
       "    <tr style=\"text-align: right;\">\n",
       "      <th></th>\n",
       "      <th>sentence pairs</th>\n",
       "      <th>entailment scores (raw: e, n, c)</th>\n",
       "      <th>entailment_metric [-1:1]</th>\n",
       "      <th>entailment_labels</th>\n",
       "    </tr>\n",
       "  </thead>\n",
       "  <tbody>\n",
       "    <tr>\n",
       "      <th>0</th>\n",
       "      <td>(saudi stock exchange appointed sarah al ceo i...</td>\n",
       "      <td>[0.24731164388214988, 0.2060030725278753, -0.3...</td>\n",
       "      <td>0.286861</td>\n",
       "      <td>NEUTRAL ENTAILMENT</td>\n",
       "    </tr>\n",
       "    <tr>\n",
       "      <th>1</th>\n",
       "      <td>(hollywood actor morgan freeman said would lik...</td>\n",
       "      <td>[0.2576244015869797, -0.0989217967988879, 0.22...</td>\n",
       "      <td>-0.006846</td>\n",
       "      <td>NEGATIVE ENTAILMENT</td>\n",
       "    </tr>\n",
       "    <tr>\n",
       "      <th>2</th>\n",
       "      <td>(uk india business council chairperson said br...</td>\n",
       "      <td>[0.6017685480474289, -0.023536088484584904, -0...</td>\n",
       "      <td>0.393107</td>\n",
       "      <td>PERFECT ENTAILMENT</td>\n",
       "    </tr>\n",
       "    <tr>\n",
       "      <th>3</th>\n",
       "      <td>(indian railways wednesday increased lower ber...</td>\n",
       "      <td>[0.3295480524571151, -0.062226016292205415, -0...</td>\n",
       "      <td>0.140763</td>\n",
       "      <td>NEUTRAL ENTAILMENT</td>\n",
       "    </tr>\n",
       "    <tr>\n",
       "      <th>4</th>\n",
       "      <td>(two pilots arrested saturday glasgow scotland...</td>\n",
       "      <td>[0.8139928166435216, -0.1578474866966397, -0.1...</td>\n",
       "      <td>0.359204</td>\n",
       "      <td>PERFECT ENTAILMENT</td>\n",
       "    </tr>\n",
       "  </tbody>\n",
       "</table>\n",
       "</div>"
      ],
      "text/plain": [
       "                                      sentence pairs  \\\n",
       "0  (saudi stock exchange appointed sarah al ceo i...   \n",
       "1  (hollywood actor morgan freeman said would lik...   \n",
       "2  (uk india business council chairperson said br...   \n",
       "3  (indian railways wednesday increased lower ber...   \n",
       "4  (two pilots arrested saturday glasgow scotland...   \n",
       "\n",
       "                    entailment scores (raw: e, n, c)  \\\n",
       "0  [0.24731164388214988, 0.2060030725278753, -0.3...   \n",
       "1  [0.2576244015869797, -0.0989217967988879, 0.22...   \n",
       "2  [0.6017685480474289, -0.023536088484584904, -0...   \n",
       "3  [0.3295480524571151, -0.062226016292205415, -0...   \n",
       "4  [0.8139928166435216, -0.1578474866966397, -0.1...   \n",
       "\n",
       "   entailment_metric [-1:1]    entailment_labels  \n",
       "0                  0.286861   NEUTRAL ENTAILMENT  \n",
       "1                 -0.006846  NEGATIVE ENTAILMENT  \n",
       "2                  0.393107   PERFECT ENTAILMENT  \n",
       "3                  0.140763   NEUTRAL ENTAILMENT  \n",
       "4                  0.359204   PERFECT ENTAILMENT  "
      ]
     },
     "execution_count": 68,
     "metadata": {},
     "output_type": "execute_result"
    }
   ],
   "source": [
    "df_final_E = pd.DataFrame(list(zip(rw_sentence_pairs, aa, e_scores, E_labels)), columns =['sentence pairs', 'entailment scores (raw: e, n, c)', 'entailment_metric [-1:1]', 'entailment_labels'])\n",
    "df_final_E.to_csv('scores/summary_entailment_scores_of_test_pairs.csv')\n",
    "df_final_E.head()"
   ]
  },
  {
   "cell_type": "code",
   "execution_count": 53,
   "metadata": {},
   "outputs": [
    {
     "name": "stdout",
     "output_type": "stream",
     "text": [
      "torch.return_types.max(\n",
      "values=tensor([0.5129, 2.3959, 3.6791], device='cuda:0', grad_fn=<MaxBackward0>),\n",
      "indices=tensor([50, 71, 68], device='cuda:0')) torch.return_types.min(\n",
      "values=tensor([-1.3504, -0.2311, -1.9773], device='cuda:0', grad_fn=<MinBackward0>),\n",
      "indices=tensor([81,  4, 79], device='cuda:0'))\n",
      "3.3822434147198996\n",
      "torch.return_types.max(\n",
      "values=tensor([1.0785, 1.8554, 2.2000], device='cuda:0', grad_fn=<MaxBackward0>),\n",
      "indices=tensor([79, 14, 63], device='cuda:0')) torch.return_types.min(\n",
      "values=tensor([-0.8711, -0.3274, -1.9962], device='cuda:0', grad_fn=<MinBackward0>),\n",
      "indices=tensor([97, 90, 14], device='cuda:0'))\n",
      "3.3822434147198996\n"
     ]
    }
   ],
   "source": [
    "maxi_1 = torch.max(prediction_1, dim=0)\n",
    "mini_1 = torch.min(prediction_1, dim=0)\n",
    "# print(maxi[0][0])\n",
    "denom1_1 = float(maxi_1[0][0].to('cpu')) - float(mini_1[0][0].to('cpu'))\n",
    "denom2_1 = float(maxi_1[0][1].to('cpu')) - float(mini_1[0][1].to('cpu'))\n",
    "denom3_1 = float(maxi_1[0][2].to('cpu')) - float(mini_1[0][2].to('cpu'))\n",
    "denom_1 = ( denom1_1 + denom2_1 + denom3_1 ) / 3\n",
    "print(maxi_1, mini_1)\n",
    "print(denom_1)\n",
    "\n",
    "maxi_2 = torch.max(prediction_2, dim=0)\n",
    "mini_2 = torch.min(prediction_2, dim=0)\n",
    "# print(maxi[0][0])\n",
    "denom1_2 = float(maxi_2[0][0].to('cpu')) - float(mini_2[0][0].to('cpu'))\n",
    "denom2_2 = float(maxi_2[0][1].to('cpu')) - float(mini_2[0][1].to('cpu'))\n",
    "denom3_2 = float(maxi_2[0][2].to('cpu')) - float(mini_2[0][2].to('cpu'))\n",
    "denom_2 = ( denom1 + denom2 + denom3 ) / 3\n",
    "print(maxi_2, mini_2)\n",
    "print(denom_2)"
   ]
  },
  {
   "cell_type": "code",
   "execution_count": 54,
   "metadata": {},
   "outputs": [
    {
     "name": "stdout",
     "output_type": "stream",
     "text": [
      "[[-0.2990544215095602, 0.4881491836951262, 0.022660937920790564], [-0.28391490918508966, 0.2250585363777605, 0.35558400138726787], [-0.07759776791794418, 0.19139587867597568, 0.03372683117700098], [-0.0971400229748619, 0.3038765167111119, -0.06608506584925791], [0.01161434164531932, -0.06833753456311004, 0.40112494642297564], [-0.18152484741800964, 0.22178990980555957, 0.17548836414089944], [0.04027053427112939, 0.24995083088187758, -0.21501400852127647], [-0.20147433044837107, 0.263297873980847, 0.16267915168592903], [-0.15714449564491817, 0.019605681765413507, 0.6232873320138349], [-0.10259322637205864, 0.18790333663594647, 0.08391901823776153], [-0.11271638722220315, 0.29199036960238556, -0.020801605538168854], [-0.33548793179454256, 0.17960105298660134, 0.8140990496692242], [-0.11588377073107389, 0.07100822788600518, 0.3417445240117736], [-0.2216626026011214, 0.48261209570585784, -0.10834445797909152], [0.06263465114480586, 0.2722904608562508, -0.280197411931238], [-0.0174716890236042, 0.08910737718286814, 0.07800299570206014], [-0.21977223864684753, 0.30015634078961423, 0.13780256792001191], [0.136137273727848, 0.03911444246249799, -0.1127250928920526], [0.03534804190129362, 0.2136729652853778, -0.1658751193982326], [-0.021798759395052283, 0.03760161204098702, 0.17858712441415525], [-0.14882719735850475, 0.07423106157742919, 0.42857483984460554], [0.040443978001206984, 0.0819688512660097, -0.030486114735618], [-0.22339400877798213, 0.42642154351350203, -0.02150373146920779], [-0.10091396610022733, 0.08524826300004842, 0.2601556206039708], [-0.27110770573085374, 0.17892151729956698, 0.44752087987652983], [-0.09098525537380528, 0.15232566066385667, 0.11644748928804625], [0.034889980922423285, 0.17396702190048707, -0.1192368634481907], [-0.04444802220192531, 0.0548512095579561, 0.1928531443666459], [-0.02240501061231141, 0.07163807605048783, 0.11715275428273283], [-0.15091261061215866, 0.10690561693989419, 0.33337340565305196], [0.02436243818320894, 0.06336686142127344, 0.03586751838507357], [-0.12437798444181662, 0.1638006499117376, 0.15540811983466157], [-0.025406977582635795, 0.1039284628909221, 0.07071764531485608], [0.0882464322540721, 0.18641840312814337, -0.20583033747952117], [-0.10025984251020294, 0.34251481718812915, -0.1180433584065828], [-0.21232515488911036, 0.3071237315649584, 0.11732785455727571], [-0.2768336397891642, 0.24632174728315692, 0.29791087714411263], [-0.1907555713717043, 0.06122769858656518, 0.5923998973529858], [0.04809507666467225, 0.023635622690511938, 0.06729581481383685], [-0.1292153057541981, 0.4151186234162488, -0.1581391977278789], [-0.24875062917115473, 0.09843791675200268, 0.5993234778140674], [-0.024706047800060485, 0.18604321342957073, -0.044701768687238734], [-0.12961752884861905, 0.21931764055082217, 0.08726863926062664], [-0.061087588408148, 0.04604357410981955, 0.258417130056099], [-0.23502478369685328, 0.41233876557537297, 0.02040791408831444], [-0.12889069353025692, 0.14891448315357428, 0.18152114662718294], [-0.03267906680271087, 0.14052107193582522, 0.018864481651229423], [-0.19621740994749665, 0.25363243046471035, 0.16800466017679147], [-0.20448977005958596, 0.2501894437761319, 0.1806759212479936], [-0.051919460687864814, -0.006271790241701879, 0.3945113864962901], [0.15164210697535335, -0.017411662416680438, -0.04035232174839927], [-0.08303137474657292, 0.05918402496659228, 0.28199046270958333], [-0.027496285478064486, 0.01450829398624134, 0.2579248191392683], [-0.08185783635261569, 0.07343432536947624, 0.24137368421099006], [-0.26936382260206304, 0.2596937795316132, 0.26861263255549855], [-0.20112384793426996, 0.11919415455976934, 0.4422216998689773], [-0.28976078411181183, 0.32350667436157027, 0.23718089967811049], [0.035346402979641804, 0.2143442887413396, -0.16667181154915192], [0.035810402846648305, 0.12164428956080042, -0.067006514302367], [-0.19464193042413383, 0.5474385666519918, -0.21301558147486324], [-0.18033312228056123, 0.05797636880577565, 0.5718846515192906], [-0.20069994877929268, 0.19097876430418068, 0.2453134051425778], [-0.08787410626268677, 0.030939651057132367, 0.3842621696614631], [0.06834171557560352, -0.02079255622345692, 0.11486996551832204], [-0.11855144174146058, 0.11550277431546603, 0.2292183486266556], [-0.09679204290027217, 0.13540115118679222, 0.14676360995932156], [-0.31965827484933446, 0.042228367166736516, 1.030673628813676], [-0.11374947179288071, 0.07610865780335095, 0.3195715001158553], [-0.3802378944708922, 0.0810665720282422, 1.087767737897775], [-0.12077512358952508, 0.2037145601182749, 0.09512561203664005], [0.0650572152541781, 0.018867162521727092, 0.05203334811985287], [-0.32891779448022346, 0.7083685836107189, -0.2106511638385037], [-0.0409691907107683, 0.34913204266001446, -0.20290413979566993], [-0.09476059070143408, 0.32670725925100047, -0.10438487613673388], [0.035346402979641804, 0.2143442887413396, -0.16667181154915192], [-0.18985229644497625, 0.5789135459136117, -0.2517806252262879], [-0.12046698869616938, 0.3867647149097255, -0.13972059969141865], [-0.1515257082924472, 0.12140826722012482, 0.29590067805830783], [-0.2613132632201867, 0.6846049245718618, -0.2713567160850497], [0.052600194726214466, 0.5181690824949451, -0.5846188260345465], [0.11397158973373603, 0.014698928770849587, -0.0390104458345646], [-0.39926521091849604, 0.15022940937992457, 0.9281562245965308], [0.03482816890421082, 0.1484161452345401, -0.09251977066727932], [-0.10230000037889049, 0.3793147057649539, -0.15492768669410323], [-0.11142858250576845, 0.07467852243400308, 0.31720401610995363], [-0.1948325387745219, 0.18716279076871212, 0.2398270003648216], [-0.15195669181843555, 0.37896669044473724, -0.07933629371144293], [-0.19859215455254398, 0.26907503755788686, 0.1469735857817026], [-0.21292915919765326, 0.20548515943227166, 0.2451034469430102], [-0.2563563182500358, 0.5132387832187464, -0.09155254255050338], [-0.27228173756358787, 0.7030861100303267, -0.27670901125237196], [-0.02229584609433075, 0.09295713365174037, 0.08083374822820967], [-0.17328907226666418, 0.35853948818709036, -0.010514662665426451], [-0.12945314324466012, -0.0037896142122351255, 0.61477431476113], [0.1199503582967633, -0.04384003513754033, 0.10899852870067554], [-0.22796466167708032, 0.2555105465636292, 0.20735340675565267], [-0.043250728255423414, 0.030065226878890766, 0.25576584826223053], [-0.042449824252087064, 0.06809270081570423, 0.16195531224585516], [-0.0432883705849749, 0.10884751881213307, 0.09428056288558533], [-0.18836415558512337, 0.15003272115889266, 0.3069529312568999]]\n",
      "[[-0.019847235466663993, 0.025029230373259707, 0.20578726732342387], [0.13433713857849158, -0.016025939841530373, 0.01871842817897271], [0.16972836518417, -0.015848945114540502, -0.0693300249829815], [0.1831366123142875, -0.04230500878247594, 0.0044593472092821], [0.08318766266774678, 0.01859184130703473, 0.020088861862020007], [0.04876696405066477, 0.2365949235077376, -0.21145585674673406], [0.23279711909294673, 0.012081250377972634, -0.18618075948862942], [0.044516830477081576, 0.24792283275447774, -0.21940427430179366], [-0.07966131126009372, 0.3015518561419191, -0.09407175016889263], [0.09838550650477136, 0.04180500550756978, -0.04374504817298859], [-0.1781434877081023, 0.05175466094778956, 0.5848372079389482], [-0.21216210861897442, 0.16217298923771845, 0.44889151181622855], [-0.07323427119107338, 0.45104505486672053, -0.28435417543340447], [-0.06426240874429906, 0.027608672768056723, 0.32521037747567116], [0.03401455885236949, 0.54858313314062, -0.5902051169189965], [0.03489366409043652, 0.17428264648956346, -0.1196075505179242], [0.07261590869526358, 0.04134619555912737, -0.003499199057813901], [0.035346402979641804, 0.2143442887413396, -0.16667181154915192], [-0.0940079379613524, 0.3757174665901562, -0.1616642186131157], [-0.08463646059654927, 0.34049644111687866, -0.1371074096088449], [-0.10150487665836916, 0.012759267198771854, 0.481009441804139], [-0.05338481524991338, 0.15484729141909673, 0.037770676501919696], [0.08950064788805119, 0.0914256142365546, -0.09808033224407701], [-0.08155490018923083, 0.2167680423906204, 0.010426621292229805], [0.03860260546835314, 0.26938972813784984, -0.2380135423684891], [-0.03159387157263079, 0.2939849548754644, -0.15597938095579503], [0.106485013251034, 0.14703079824560192, -0.1907479935619163], [-0.0628636860399444, 0.04244182349477602, 0.27486580594691823], [0.06420391862642387, 0.022461315501317494, 0.046758831239738195], [0.22777049351837325, -0.0627855112394339, 0.05737346592307401], [0.012608893934365652, 0.08049160130487534, 0.023637880613486557], [-0.07878870002878686, 0.14353792137211696, 0.10775399680269294], [0.11222390888864459, 0.07981248856536405, -0.1284818618807883], [-0.05195867144781428, 0.41273876819529787, -0.2721285953146167], [0.10901137573168819, 0.023342762370723077, -0.0407239516386529], [0.1946602933957596, 0.04357970212569607, -0.194754540202146], [0.03553428860535022, 0.12490084450578097, -0.06996060889992611], [-0.17667254671418678, 0.10039967072360476, 0.42889673815527385], [-0.17319256974015484, 0.2423815681584192, 0.13906291629307527], [-0.03181754032107063, 0.019978514412685815, 0.25358273413075194], [-0.18172775649219308, 0.040714787775653474, 0.6151539101630676], [0.14491359343646537, 0.09779616437702753, -0.20082951170385377], [0.08358933945495046, 0.07835264994392861, -0.07737557948583502], [-0.1738409130473642, 0.4532124846942194, -0.1413573537371834], [0.15879295123882062, 0.0022143698432894247, -0.09059133262452419], [0.1306311313990161, 0.0009742530107915941, -0.04139382121250419], [-0.03521870807330749, 0.05618330040461686, 0.16954633914393716], [0.11066810523651034, 0.14092935727807657, -0.19251186096117115], [-0.08775407728020776, 0.12808581558248522, 0.14264963464823704], [0.019024963802006866, -0.07985732981421413, 0.41523733068771823], [-0.14267381314830474, 0.335481481844816, -0.031245574287398773], [-0.04304663845273812, 0.2511937855380555, -0.0848974280296781], [0.03523732657572844, 0.2036716661903122, -0.15412313476838058], [-0.1828808524225362, 0.4539374519943547, -0.13098697124840922], [0.09469903421401679, 0.050142834371664606, -0.05882181447013325], [0.019065020457002434, 0.20744146795451446, -0.1338686801396796], [-0.027792710011875717, 0.10225200464643099, 0.07770968159482466], [-0.0995743855578459, 0.29159177680753745, -0.04340013446794097], [-0.033475406497360964, 0.06051769305505775, 0.157452789143595], [-0.10793549415852197, -0.021639739937792054, 0.6071329923534319], [-0.2090361739673626, 0.35094631130576615, 0.06512130942673369], [0.1297559648597575, -0.035516839817172706, 0.07103484714573717], [-0.04686284108478168, 0.10818368505189198, 0.10112330750132384], [-0.17006423838591242, 0.02307999300491791, 0.650451207173002], [-0.09494904906857997, 0.08638309288423981, 0.24188950396097697], [-0.009049755282269449, 0.20318191058143328, -0.08675901392957107], [0.17359440513267965, -0.07124893789506126, 0.15880692612989475], [0.19749051723750533, -0.033383635696265755, -0.0707083624978658], [0.15574119100906378, -0.0379917723195943, 0.042733199092530844], [-0.13920518526614134, 0.20354751346948347, 0.13371610182073915], [0.21806134542485475, -0.0422407560045992, -0.04190637193059419], [-0.013788362405052318, 0.03197023098544687, 0.17239721692305854], [0.15742244265881614, 0.08917386805805436, -0.21151686692693408], [0.05549322627513318, 0.11153594949677616, -0.07623583283668818], [-0.02578035213142201, 0.2549568201418889, -0.12159525408234677], [0.06347950203920917, 0.01369919757749757, 0.06204871022005989], [0.1416621667302018, 0.04407822508427156, -0.12893118194418227], [-0.07864008684287502, 0.005295979264057799, 0.437033332112464], [0.043331722706087566, -0.0023051545929002326, 0.11521544315340039], [0.31887479980851047, 0.06256358714952666, -0.3600620992700719], [0.06958711539714904, -0.032419793362525914, 0.14239539031844337], [0.15781562524993187, -0.028837731835821053, -0.0066397540360428236], [-0.12593654606425742, 0.11403447674356959, 0.2506450111268976], [0.05139776813529222, 0.04098377358890681, 0.02608167140167188], [0.07574854442169371, 0.046041662034559096, -0.018357812547131848], [0.009391770034502825, 0.00809159079874139, 0.17392074439233998], [0.14561982768589227, -0.02316205363579642, -0.011204650883694512], [0.27347867905382056, -0.09657945009009222, 0.16060265557588607], [-0.030120542687491387, 0.33460668538464006, -0.20988929436698223], [0.31598797148992985, -0.07051385509999962, -0.00535948086951079], [0.06134459951965497, -0.09681181569697478, 0.38568637495408153], [0.02475939205640522, 0.40376276438736036, -0.393139556205276], [-0.03960893860819777, 0.07318223983433145, 0.14632541870262786], [-0.15507198229071725, 0.2732212802404175, 0.06531182085164772], [-0.12102873349803418, 0.15356391002884062, 0.16285802324255244], [0.13346227162706178, -0.026364722422918326, 0.03466990282222602], [0.2552341503573157, -0.09108871891163149, 0.15233265692080045], [-0.25754744421182657, 0.20913792809228315, 0.32765980756416385], [0.145241686166065, 0.09738599339373591, -0.20089492758741892], [-0.06463640009155638, 0.13083176713026315, 0.1009620411353474]]\n"
     ]
    }
   ],
   "source": [
    "p1 = []\n",
    "for i in prediction_1:\n",
    "    p = []\n",
    "    for j in i:\n",
    "        p.append(float(j.to('cpu'))/denom_1)\n",
    "    p1.append(p)\n",
    "print(p1)\n",
    "\n",
    "p2 = []\n",
    "for i in prediction_2:\n",
    "    p = []\n",
    "    for j in i:\n",
    "        p.append(float(j.to('cpu'))/denom_2)\n",
    "    p2.append(p)\n",
    "print(p2)"
   ]
  },
  {
   "cell_type": "code",
   "execution_count": 55,
   "metadata": {},
   "outputs": [
    {
     "name": "stdout",
     "output_type": "stream",
     "text": [
      "[-0.031056307033115054, -0.21078785695339092, -0.006250663902782927, 0.04835332049198078, -0.16947174882368454, -0.09844730266245172, 0.15210398329333788, -0.09300181805755064, -0.3082515947104185, -0.037024230516738775, 0.021632161246863395, -0.42391458198818643, -0.16884967231993794, 0.05119516129235961, 0.1915909174016677, -0.020368398453692108, -0.08299865446882093, 0.10736783514045985, 0.12322385757688603, -0.07263403111548561, -0.21611460256575826, 0.04476580734793193, 0.004528197779190671, -0.12737818208166957, -0.25166713078304004, -0.052507965731969274, 0.09644414212834301, -0.08395022471583727, -0.04149549074792013, -0.17233328311810542, 0.008071340203508836, -0.07915431172824376, -0.01766415658081233, 0.15491438851906597, 0.07561636979617778, -0.07043645746556274, -0.18063345731667935, -0.301016647772563, -0.0029531707215634554, 0.09459328147272208, -0.3195420594436883, 0.04520693104078545, -0.04289093913353384, -0.11859317256373489, -0.019705325998992496, -0.09438183943226108, 0.007486795005588927, -0.09496234195677318, -0.10402838776780543, -0.17982669692200232, 0.07331543900616495, -0.13417192998914404, -0.11126678304968485, -0.11460574315154706, -0.163251826156702, -0.23349938820934507, -0.14607533864365488, 0.12367614355978543, 0.06545562477176621, 0.11683717375069011, -0.2892918357587856, -0.14020958870791206, -0.18266658015823348, -0.022769811221778794, -0.11600736128415327, -0.07034203090647904, -0.5316870880318569, -0.15810665720282419, -0.5709889385418185, -0.04561738222681107, 0.00898297935807551, 0.09436706446545587, 0.13460038816596356, 0.06919116602432, 0.12367614355978543, 0.140554040695247, 0.08505438738004481, -0.15468890109627703, 0.14093836606031757, 0.3585214248032934, 0.06413259998149017, -0.5009226923300258, 0.08062240487550407, 0.09691401567907587, -0.15651733495948822, -0.13643125750199497, 0.046745178846150405, -0.08441128862212126, -0.14211601056981105, 0.03672624636393631, 0.14238813148157897, -0.022660410998668095, 0.006598133796922981, -0.2984489060447631, -0.004387275189072964, -0.12302511806036735, -0.11359358523128342, -0.06814351443603604, -0.03325806962579748, -0.16812029050503077]\n",
      "[-0.0852479550413832, 0.043042296191501475, 0.09245356704395251, 0.06300990428550697, 0.028957888583697654, 0.15140811302050705, 0.170007401508225, 0.15515300846244565, 0.06607454679190339, 0.06521322297261793, -0.2948413460692623, -0.23198685032653749, 0.17465697267027652, -0.15026737993437672, 0.35940449693667037, 0.09665701514125698, 0.038715282213056465, 0.12367614355978543, 0.10220600557873656, 0.08908766782829398, -0.2304538739452489, -0.005492738416913884, 0.0933175149001622, 0.006560999885539825, 0.16452440476230684, 0.10855119472835857, 0.1482993623743005, -0.12660343209578984, 0.01147029805493777, 0.05560170879023292, 0.011686725589326706, -0.04590949445816853, 0.11224480602084597, 0.17061572318578055, 0.06456268342228105, 0.16448187386430146, 0.06717812790326673, -0.22214777980306327, -0.0764258807816082, -0.11016440689819187, -0.3106097091069736, 0.15785647493153315, 0.08005649756509992, 0.07764907321477155, 0.10019658751399581, 0.06900483164676643, -0.0706693588059745, 0.1494578579346879, -0.06654432165488088, -0.17445641271712736, 0.022525000824600815, 0.06697907293838709, 0.11647851777570603, 0.07002993792922015, 0.07143690634799293, 0.10266177382957571, -0.021750555713393953, 0.03584865492554552, -0.06426773964537083, -0.2903553425923399, -0.03947373109648529, 0.016385079122173584, -0.037557722424063814, -0.3235901796225822, -0.11745880263497481, 0.0717200855752073, -0.00833479597789829, 0.1006028247548953, 0.03760484230269431, -0.06845901214085551, 0.09553893574125974, -0.06808018553415497, 0.16541049744591096, 0.07499881354408378, 0.08931732480874768, 0.003312156243159228, 0.11705298448660795, -0.20521017172932404, -0.029214519097505175, 0.2840874770613383, -0.03560726864102291, 0.06001460534722567, -0.12782572752774807, 0.0183231934112295, 0.046850875194442046, -0.06419327158338659, 0.058097380700675424, 0.02583451937315535, 0.13882883774872434, 0.11443620992377632, -0.14909907331316558, 0.24791213218214456, -0.05973729495746396, -0.03350926520886249, -0.08284192069046652, 0.034244003037350645, 0.02294285359227981, -0.19225531509193955, 0.15793184418014078, -0.04007302306470888]\n"
     ]
    }
   ],
   "source": [
    "me1_scores = []\n",
    "for i in p1:\n",
    "    me1_scores.append((i[0] + i[1]*0.5 - i[2])/2.5)\n",
    "print(me1_scores)\n",
    "\n",
    "me2_scores = []\n",
    "for i in p2:\n",
    "    me2_scores.append((i[0] + i[1]*0.5 - i[2])/2.5)\n",
    "print(me2_scores)"
   ]
  },
  {
   "cell_type": "code",
   "execution_count": 57,
   "metadata": {},
   "outputs": [],
   "source": [
    "mutual_scores= []\n",
    "for i, j in zip(me1_scores, me2_scores):\n",
    "    mutual_scores.append( (i + j) / 2 )"
   ]
  },
  {
   "cell_type": "code",
   "execution_count": 78,
   "metadata": {},
   "outputs": [
    {
     "name": "stdout",
     "output_type": "stream",
     "text": [
      "POSITIVE Entailments:  45\n",
      "NEGATIVE Entailments:  48\n",
      "Contradictions:  7\n"
     ]
    }
   ],
   "source": [
    "MUTUAL_labels = []\n",
    "n_c = 0\n",
    "p_c = 0\n",
    "c_c = 0\n",
    "for i in mutual_scores:\n",
    "    if i <= -0.2:\n",
    "        c_c += 1\n",
    "        MUTUAL_labels.append('CONTRADICTION')\n",
    "    elif i > -0.2 and i < 0:\n",
    "        n_c += 1\n",
    "        MUTUAL_labels.append('NEGATIVE ENTAILMENT')\n",
    "    else:\n",
    "        p_c += 1\n",
    "        MUTUAL_labels.append('POSITIVE ENTAILMENT')\n",
    "        \n",
    "print(\"POSITIVE Entailments: \", p_c)\n",
    "print(\"NEGATIVE Entailments: \", n_c)\n",
    "print(\"Contradictions: \", c_c)"
   ]
  },
  {
   "cell_type": "code",
   "execution_count": 80,
   "metadata": {},
   "outputs": [
    {
     "data": {
      "text/html": [
       "<div>\n",
       "<style scoped>\n",
       "    .dataframe tbody tr th:only-of-type {\n",
       "        vertical-align: middle;\n",
       "    }\n",
       "\n",
       "    .dataframe tbody tr th {\n",
       "        vertical-align: top;\n",
       "    }\n",
       "\n",
       "    .dataframe thead th {\n",
       "        text-align: right;\n",
       "    }\n",
       "</style>\n",
       "<table border=\"1\" class=\"dataframe\">\n",
       "  <thead>\n",
       "    <tr style=\"text-align: right;\">\n",
       "      <th></th>\n",
       "      <th>sentence pairs</th>\n",
       "      <th>e_n_c scores 1</th>\n",
       "      <th>e_n_c scores 2</th>\n",
       "      <th>entailment_metric_1[-1:1]</th>\n",
       "      <th>entailment_metric_2[-1:1]</th>\n",
       "      <th>mutuality_score</th>\n",
       "      <th>mutual_labels</th>\n",
       "    </tr>\n",
       "  </thead>\n",
       "  <tbody>\n",
       "    <tr>\n",
       "      <th>0</th>\n",
       "      <td>(saudi stock exchange appointed sarah al ceo i...</td>\n",
       "      <td>[-0.2990544215095602, 0.4881491836951262, 0.02...</td>\n",
       "      <td>[-0.019847235466663993, 0.025029230373259707, ...</td>\n",
       "      <td>-0.031056</td>\n",
       "      <td>-0.085248</td>\n",
       "      <td>-0.058152</td>\n",
       "      <td>NEGATIVE ENTAILMENT</td>\n",
       "    </tr>\n",
       "    <tr>\n",
       "      <th>1</th>\n",
       "      <td>(hollywood actor morgan freeman said would lik...</td>\n",
       "      <td>[-0.28391490918508966, 0.2250585363777605, 0.3...</td>\n",
       "      <td>[0.13433713857849158, -0.016025939841530373, 0...</td>\n",
       "      <td>-0.210788</td>\n",
       "      <td>0.043042</td>\n",
       "      <td>-0.083873</td>\n",
       "      <td>NEGATIVE ENTAILMENT</td>\n",
       "    </tr>\n",
       "    <tr>\n",
       "      <th>2</th>\n",
       "      <td>(uk india business council chairperson said br...</td>\n",
       "      <td>[-0.07759776791794418, 0.19139587867597568, 0....</td>\n",
       "      <td>[0.16972836518417, -0.015848945114540502, -0.0...</td>\n",
       "      <td>-0.006251</td>\n",
       "      <td>0.092454</td>\n",
       "      <td>0.043101</td>\n",
       "      <td>POSITIVE ENTAILMENT</td>\n",
       "    </tr>\n",
       "    <tr>\n",
       "      <th>3</th>\n",
       "      <td>(indian railways wednesday increased lower ber...</td>\n",
       "      <td>[-0.0971400229748619, 0.3038765167111119, -0.0...</td>\n",
       "      <td>[0.1831366123142875, -0.04230500878247594, 0.0...</td>\n",
       "      <td>0.048353</td>\n",
       "      <td>0.063010</td>\n",
       "      <td>0.055682</td>\n",
       "      <td>POSITIVE ENTAILMENT</td>\n",
       "    </tr>\n",
       "    <tr>\n",
       "      <th>4</th>\n",
       "      <td>(two pilots arrested saturday glasgow scotland...</td>\n",
       "      <td>[0.01161434164531932, -0.06833753456311004, 0....</td>\n",
       "      <td>[0.08318766266774678, 0.01859184130703473, 0.0...</td>\n",
       "      <td>-0.169472</td>\n",
       "      <td>0.028958</td>\n",
       "      <td>-0.070257</td>\n",
       "      <td>NEGATIVE ENTAILMENT</td>\n",
       "    </tr>\n",
       "  </tbody>\n",
       "</table>\n",
       "</div>"
      ],
      "text/plain": [
       "                                      sentence pairs  \\\n",
       "0  (saudi stock exchange appointed sarah al ceo i...   \n",
       "1  (hollywood actor morgan freeman said would lik...   \n",
       "2  (uk india business council chairperson said br...   \n",
       "3  (indian railways wednesday increased lower ber...   \n",
       "4  (two pilots arrested saturday glasgow scotland...   \n",
       "\n",
       "                                      e_n_c scores 1  \\\n",
       "0  [-0.2990544215095602, 0.4881491836951262, 0.02...   \n",
       "1  [-0.28391490918508966, 0.2250585363777605, 0.3...   \n",
       "2  [-0.07759776791794418, 0.19139587867597568, 0....   \n",
       "3  [-0.0971400229748619, 0.3038765167111119, -0.0...   \n",
       "4  [0.01161434164531932, -0.06833753456311004, 0....   \n",
       "\n",
       "                                      e_n_c scores 2  \\\n",
       "0  [-0.019847235466663993, 0.025029230373259707, ...   \n",
       "1  [0.13433713857849158, -0.016025939841530373, 0...   \n",
       "2  [0.16972836518417, -0.015848945114540502, -0.0...   \n",
       "3  [0.1831366123142875, -0.04230500878247594, 0.0...   \n",
       "4  [0.08318766266774678, 0.01859184130703473, 0.0...   \n",
       "\n",
       "   entailment_metric_1[-1:1]  entailment_metric_2[-1:1]  mutuality_score  \\\n",
       "0                  -0.031056                  -0.085248        -0.058152   \n",
       "1                  -0.210788                   0.043042        -0.083873   \n",
       "2                  -0.006251                   0.092454         0.043101   \n",
       "3                   0.048353                   0.063010         0.055682   \n",
       "4                  -0.169472                   0.028958        -0.070257   \n",
       "\n",
       "         mutual_labels  \n",
       "0  NEGATIVE ENTAILMENT  \n",
       "1  NEGATIVE ENTAILMENT  \n",
       "2  POSITIVE ENTAILMENT  \n",
       "3  POSITIVE ENTAILMENT  \n",
       "4  NEGATIVE ENTAILMENT  "
      ]
     },
     "execution_count": 80,
     "metadata": {},
     "output_type": "execute_result"
    }
   ],
   "source": [
    "df_final_ME = pd.DataFrame(list(zip(rw_sentence_pairs, p1, p2, me1_scores, me2_scores, mutual_scores, MUTUAL_labels)), columns =['sentence pairs', 'e_n_c scores 1', 'e_n_c scores 2', 'entailment_metric_1[-1:1]', 'entailment_metric_2[-1:1]', 'mutuality_score', 'mutual_labels'])\n",
    "df_final_ME.to_csv('scores/mutual_entailment_scores_of_test_pairs.csv')\n",
    "df_final_ME.head()"
   ]
  },
  {
   "cell_type": "code",
   "execution_count": null,
   "metadata": {},
   "outputs": [],
   "source": []
  }
 ],
 "metadata": {
  "accelerator": "GPU",
  "colab": {
   "collapsed_sections": [],
   "name": "entail_lstm.ipynb",
   "provenance": []
  },
  "kernelspec": {
   "display_name": "Python 3",
   "language": "python",
   "name": "python3"
  },
  "language_info": {
   "codemirror_mode": {
    "name": "ipython",
    "version": 3
   },
   "file_extension": ".py",
   "mimetype": "text/x-python",
   "name": "python",
   "nbconvert_exporter": "python",
   "pygments_lexer": "ipython3",
   "version": "3.8.8"
  }
 },
 "nbformat": 4,
 "nbformat_minor": 1
}
